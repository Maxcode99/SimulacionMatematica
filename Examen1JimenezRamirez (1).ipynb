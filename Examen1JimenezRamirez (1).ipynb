{
 "cells": [
  {
   "cell_type": "markdown",
   "metadata": {},
   "source": [
    "# Examen Módulo 1 - Optimización.\n",
    "\n",
    "**Lea cuidadosamente las siguientes indicaciones antes de comenzar el examen:**\n",
    "- Para resolver el examen edite este mismo archivo y renómbrelo de la siguiente manera: *Examen1_ApellidoNombre*, donde *ApellidoNombre* corresponde a su apellido paterno con la inicial en mayúscula, seguido de su primer nombre con la inicial en mayúscula **sin acentos**. Por ejemplo, en mi caso el nombre del archivo sería *Examen1_ArellanoCarlos*.\n",
    "- Resuelva los puntos en el espacio provisto. Si requiere agregar más celdas para código o escritura, hágalo (`Esc`+`B`) o (`Esc`+`A`).\n",
    "- Recuerde que también se está evaluando su capacidad de interpretar los resultados. Escriba sus interpretaciones/conclusiones en celdas utilizando *Markdown*.\n",
    "- El formato de presentación de todo el examen en general debe ser adecuado. Use tamaños de letra, colores, etiquetas, etcétera.\n",
    "- No se resuelven dudas de ningún tipo por los profesores de la asignatura. Por favor, absténgase de preguntar.\n",
    "- Revise bien el tipo de examen. Sólo se le calificará si realiza el tipo de examen asignado."
   ]
  },
  {
   "cell_type": "markdown",
   "metadata": {},
   "source": [
    "---\n",
    "# Primer punto. Optimización de funciones con `SymPy`\n",
    "\n",
    "**Volumen mínimo**. Considere un cono circular recto circunscrito en una esfera de radio $r$:"
   ]
  },
  {
   "cell_type": "code",
   "execution_count": 2,
   "metadata": {},
   "outputs": [
    {
     "data": {
      "image/png": "[encoded data removed]",
      "text/plain": [
       "<Figure size 432x288 with 1 Axes>"
      ]
     },
     "metadata": {
      "needs_background": "light"
     },
     "output_type": "display_data"
    }
   ],
   "source": [
    "import numpy as np\n",
    "import matplotlib.pyplot as plt\n",
    "import matplotlib.patches as patches\n",
    "%matplotlib inline\n",
    "\n",
    "B1 = patches.Arc((0, 0), 2,0.3,theta2=180,fc='None',ls='--',color='k')\n",
    "B2 = patches.Arc((0, 0), 2,0.3,theta1=180,fc='None',color='k')\n",
    "C = patches.Circle((0, 0.6), 0.6,fc='None',lw=2,color='k');\n",
    "ax = plt.gca()\n",
    "ax.add_artist(B1)\n",
    "ax.add_artist(B2)\n",
    "ax.add_artist(C)\n",
    "\n",
    "plt.plot([1,0,-1],[0,2,0],'k')\n",
    "plt.plot([0,0],[0,2],'--r')\n",
    "plt.plot([-0.2,0],[0,0],'--k')\n",
    "plt.plot([-0.2,0],[2,2],'--k')\n",
    "plt.plot([-0.14,-0.14],[0,0.9],'--k')\n",
    "plt.plot([-0.14,-0.14],[1.1,2],'--k')\n",
    "plt.plot([0,0.55],[0.6,0.9],'--r')\n",
    "plt.scatter([0,0.55],[0.6,0.9],c='k')\n",
    "plt.plot([0,1],[0,0],'--k')\n",
    "\n",
    "plt.text(-0.18,0.95,'h')\n",
    "plt.text(0.2,0.8,'$r$')\n",
    "\n",
    "plt.axis([-2.1,2.1,-0.5,2.1])\n",
    "plt.axis('off')\n",
    "plt.show()"
   ]
  },
  {
   "cell_type": "markdown",
   "metadata": {},
   "source": [
    "1. Escriba el volumen $V$ del cono como una función de la altura $h$ de éste. Realice este punto usando fórmulas de $\\LaTeX$, en celdas *Markdown*.\n",
    "2. Determinar el valor de $h$ que minimiza el volumen para un radio $r=2$.\n",
    "3. ¿Cuál es el volumen mínimo del cono?"
   ]
  },
  {
   "cell_type": "markdown",
   "metadata": {},
   "source": [
    "# 1) Escriba el volumen $V$ del cono como una función de la altura $h$ de éste. Realice este punto usando fórmulas de $\\LaTeX$, en celdas *Markdown*.\n",
    "\n",
    "Esta es la formula que utilice para el volumen \n",
    "- $ V = \\frac{ \\pi r^2 h }{3} $\n",
    "\n",
    "\n",
    "\n"
   ]
  },
  {
   "cell_type": "markdown",
   "metadata": {},
   "source": [
    "## Procedimiento\n",
    "\n",
    "Primero se desea minimizar el volumen del cono\n",
    "\n",
    "\n",
    "Remplazamos los valores de las variables que ya conocemos a $2$\n",
    "$$ V(x, y) = \\frac{\\pi}{3} x^2 (y + 2) $$\n",
    "\n",
    "Donde:\n",
    "\n",
    " $ h = y + 2 $\n",
    " $ r = x $\n",
    "\n",
    "Reescribimos argumentos usando trigonometria para obtener una planteamiento factible\n",
    "\n",
    "$$ \\frac{x}{2} = \\frac{y + 2}{\\sqrt{y^2 - 4}} $$\n",
    "\n",
    "Despejamos la variable $x$:\n",
    "\n",
    "$$ x = \\frac{2(y + 2)}{\\sqrt{y^2 - 4}} $$\n",
    "\n",
    "Elevamos al cuadrado los terminos de la ecuación que este caso estan remplazando x\n",
    "\n",
    "$$ x^2 = \\frac{4(y + 2)^2}{y^2 -4} $$\n",
    "\n",
    "Se procede a simplificar terminos\n",
    "\n",
    "$$ x^2 = \\frac{4(y + 2)}{y - 2} $$\n",
    "\n",
    "Una vez que ya tenemos x, esta se sustituye en la función de volumen, por tanto la función de volumen solo presenta una variable $y$.\n",
    "\n",
    "Ahora volvemos a la fórmula del volumen del cono:\n",
    "\n",
    "$$ V = f(x, y) = \\frac{\\pi}{3} x^2 (y + 2) $$\n",
    "\n",
    "\n",
    "Con lo obtenido, conseguimos la siguiente funcion que esta solo en un termino, por lo que ya se puede empezar a minimizar \n",
    "\n",
    "$$ V(y) = \\frac{1}{3}\\pi  \\frac{4(y + 2)^2}{y - 2} $$\n",
    "\n",
    "\n",
    "\n"
   ]
  },
  {
   "cell_type": "code",
   "execution_count": 26,
   "metadata": {},
   "outputs": [
    {
     "data": {
      "text/latex": [
       "$\\displaystyle x$"
      ],
      "text/plain": [
       "x"
      ]
     },
     "execution_count": 26,
     "metadata": {},
     "output_type": "execute_result"
    }
   ],
   "source": [
    "# Se importan librerías\n",
    "import numpy as np\n",
    "import matplotlib.pyplot as plt\n",
    "%matplotlib inline\n",
    "import sympy as sp\n",
    "sp.var(\"r\")\n",
    "sp.var(\"y\")\n",
    "sp.var(\"x\")"
   ]
  },
  {
   "cell_type": "code",
   "execution_count": 48,
   "metadata": {},
   "outputs": [
    {
     "data": {
      "text/latex": [
       "$\\displaystyle \\frac{4 \\pi \\left(y + 2\\right)^{2}}{3 \\left(y - 2\\right)}$"
      ],
      "text/plain": [
       "4*pi*(y + 2)**2/(3*(y - 2))"
      ]
     },
     "execution_count": 48,
     "metadata": {},
     "output_type": "execute_result"
    }
   ],
   "source": [
    "def funcion_minimizar(y) : \n",
    "    return (sp.pi/3 * (4*(y+2)**2)/(y - 2))\n",
    "\n",
    "funcion_minimizar(y)\n"
   ]
  },
  {
   "cell_type": "code",
   "execution_count": 46,
   "metadata": {},
   "outputs": [
    {
     "data": {
      "text/latex": [
       "$\\displaystyle \\frac{4 \\pi \\left(2 y + 4\\right)}{3 \\left(y - 2\\right)} - \\frac{4 \\pi \\left(y + 2\\right)^{2}}{3 \\left(y - 2\\right)^{2}}$"
      ],
      "text/plain": [
       "4*pi*(2*y + 4)/(3*(y - 2)) - 4*pi*(y + 2)**2/(3*(y - 2)**2)"
      ]
     },
     "execution_count": 46,
     "metadata": {},
     "output_type": "execute_result"
    }
   ],
   "source": [
    "derivada_de_cono = sp.diff(funcion_minimizar(y), y)\n",
    "derivada_de_cono"
   ]
  },
  {
   "cell_type": "code",
   "execution_count": 45,
   "metadata": {},
   "outputs": [
    {
     "data": {
      "text/latex": [
       "$\\displaystyle 6$"
      ],
      "text/plain": [
       "6"
      ]
     },
     "execution_count": 45,
     "metadata": {},
     "output_type": "execute_result"
    }
   ],
   "source": [
    "puntos_criticos = pc = sp.solve(dV, y)[1]\n",
    "puntos_criticos "
   ]
  },
  {
   "cell_type": "code",
   "execution_count": 49,
   "metadata": {},
   "outputs": [
    {
     "data": {
      "text/latex": [
       "$\\displaystyle \\frac{8 \\pi}{3 \\left(y - 2\\right)} - \\frac{8 \\pi \\left(2 y + 4\\right)}{3 \\left(y - 2\\right)^{2}} + \\frac{8 \\pi \\left(y + 2\\right)^{2}}{3 \\left(y - 2\\right)^{3}}$"
      ],
      "text/plain": [
       "8*pi/(3*(y - 2)) - 8*pi*(2*y + 4)/(3*(y - 2)**2) + 8*pi*(y + 2)**2/(3*(y - 2)**3)"
      ]
     },
     "execution_count": 49,
     "metadata": {},
     "output_type": "execute_result"
    }
   ],
   "source": [
    "segunda_derivada_de_cono = sp.diff(derivada_de_cono, y)\n",
    "segunda_derivada_de_cono"
   ]
  },
  {
   "cell_type": "code",
   "execution_count": 52,
   "metadata": {},
   "outputs": [
    {
     "data": {
      "text/latex": [
       "$\\displaystyle \\frac{2 \\pi}{3}$"
      ],
      "text/plain": [
       "2*pi/3"
      ]
     },
     "execution_count": 52,
     "metadata": {},
     "output_type": "execute_result"
    }
   ],
   "source": [
    "solucion = segunda_derivada_de_cono.subs(y, puntos_criticos)\n",
    "solucion"
   ]
  },
  {
   "cell_type": "code",
   "execution_count": 56,
   "metadata": {},
   "outputs": [
    {
     "data": {
      "text/latex": [
       "$\\displaystyle 2.09$"
      ],
      "text/plain": [
       "2.09"
      ]
     },
     "execution_count": 56,
     "metadata": {},
     "output_type": "execute_result"
    }
   ],
   "source": [
    "solucion2 = round(segunda_derivada_de_cono.subs(y, puntos_criticos), 2)\n",
    "solucion2"
   ]
  },
  {
   "cell_type": "code",
   "execution_count": 57,
   "metadata": {},
   "outputs": [
    {
     "data": {
      "text/latex": [
       "$\\displaystyle 8$"
      ],
      "text/plain": [
       "8"
      ]
     },
     "execution_count": 57,
     "metadata": {},
     "output_type": "execute_result"
    }
   ],
   "source": [
    "#Con los siguientes datos ya podemos calcular la altura\n",
    "\n",
    "altura = puntos_criticos + 2\n",
    "altura"
   ]
  },
  {
   "cell_type": "code",
   "execution_count": null,
   "metadata": {},
   "outputs": [],
   "source": []
  },
  {
   "cell_type": "code",
   "execution_count": null,
   "metadata": {},
   "outputs": [],
   "source": []
  },
  {
   "cell_type": "markdown",
   "metadata": {},
   "source": [
    "---\n",
    "# Segundo punto. Programación lineal\n",
    "\n",
    "Un empresario pretende fabricar dos tipos de congeladores denominados A y B. Cada uno de ellos debe pasar por tres operaciones antes de su comercialización: \n",
    "<table>\n",
    "  <tr>\n",
    "      <th></th>\n",
    "      <th>Ensamblaje</th>\n",
    "      <th>Pintura</th>\n",
    "      <th>Calidad</th>\n",
    "  </tr>\n",
    "  <tr>\n",
    "      <th>Congeladores tipo A</th>\n",
    "      <td>2.5 horas</td>\n",
    "      <td>3 kg</td>\n",
    "      <td>14 horas</td>\n",
    "  </tr>\n",
    "  <tr style=\"border-bottom: 1px solid #000;\">\n",
    "      <th>Congeladores tipo B</th>\n",
    "      <td>3 horas</td>\n",
    "      <td>6 kg</td>\n",
    "      <td>10 horas</td>\n",
    "  </tr>\n",
    "  <tr>\n",
    "      <td>Disponibilidad</td>\n",
    "      <td>4500 horas</td>\n",
    "      <td>8400 kg</td>\n",
    "      <td>20000 horas</td>\n",
    "  </tr>\n",
    "</table>\n",
    "\n",
    "El empresario dispone semanalmente de:\n",
    "\n",
    "* Máximo 4500 horas para ensamblaje\n",
    "* Máximo 8400 Kg. de esmalte\n",
    "* 20000 horas máximo, para control de calidad\n",
    "\n",
    "Los costos totales de fabricación por unidad son, respectivamente, 30 y 28, y los precios de venta 52 y 48, todos ellos en miles de pesos. Además, los estudios de mercado muestran que la demanda semanal de congeladores no supera las 1700 unidades y que, en particular, la de tipo A es de, al menos 600 unidades.\n",
    "\n",
    "<table>\n",
    "  <tr>\n",
    "      <th></th>\n",
    "      <th>Costo</th>\n",
    "      <th>Precio de venta</th>\n",
    "  </tr>\n",
    "  <tr>\n",
    "      <th>Congeladores tipo A</th>\n",
    "      <td>30</td>\n",
    "      <td>52</td>\n",
    "  </tr>\n",
    "  <tr>\n",
    "      <th>Congeladores tipo B</th>\n",
    "      <td>28</td>\n",
    "      <td>48</td>\n",
    "  </tr>\n",
    "</table>\n",
    "\n",
    "Se desea conocer las unidades necesarias para **maximizar** la utilidad.\n",
    "\n",
    "1. Escriba la función a **minimizar** junto con las restricciones, explicando detalladamente cada paso (usando fórmulas en $\\LaTeX$, en celdas Markdown). Además escriba el problema en la forma \\begin{equation}\n",
    "\\begin{array}{ll}\n",
    "\\min_{\\boldsymbol{x}} & \\boldsymbol{c}^T\\boldsymbol{x} \\\\\n",
    "\\text{s. a. }        & \\boldsymbol{A}_{eq}\\boldsymbol{x}=\\boldsymbol{b}_{eq} \\\\\n",
    "                     & \\boldsymbol{A}\\boldsymbol{x}\\leq\\boldsymbol{b},\n",
    "\\end{array}\\qquad\n",
    "\\end{equation}\n",
    "2. Resuelva el problema utilizando la función `linprog`. ¿Cuántos congeladores de cada tipo se deben producir (valores enteros)?, ¿Cuál es la ganancia?"
   ]
  },
  {
   "cell_type": "code",
   "execution_count": 15,
   "metadata": {},
   "outputs": [],
   "source": [
    "import scipy.optimize as opt"
   ]
  },
  {
   "cell_type": "code",
   "execution_count": 16,
   "metadata": {},
   "outputs": [],
   "source": [
    "c = np.array([-22, -20])\n",
    "\n",
    "A = np.array ([\n",
    "    [2.5, 3],\n",
    "    [3, 6],\n",
    "    [14, 10],\n",
    "    [1, 1],\n",
    "    [-1, 0]\n",
    "])\n",
    "\n",
    "b = np.array([\n",
    "    4500,\n",
    "    8400,\n",
    "    20000,\n",
    "    1700,\n",
    "    -600,\n",
    "])\n"
   ]
  },
  {
   "cell_type": "code",
   "execution_count": 17,
   "metadata": {},
   "outputs": [
    {
     "data": {
      "text/plain": [
       "     con: array([], dtype=float64)\n",
       "     fun: -34705.87899796842\n",
       " message: 'Optimization terminated successfully.'\n",
       "     nit: 6\n",
       "   slack: array([4.65957899e-04, 1.16470672e+03, 1.81731643e-03, 5.29413396e+01,\n",
       "       2.82352895e+02])\n",
       "  status: 0\n",
       " success: True\n",
       "       x: array([882.35289457, 764.70576588])"
      ]
     },
     "execution_count": 17,
     "metadata": {},
     "output_type": "execute_result"
    }
   ],
   "source": [
    "sol = opt.linprog(c, A, b)\n",
    "sol"
   ]
  },
  {
   "cell_type": "code",
   "execution_count": null,
   "metadata": {},
   "outputs": [],
   "source": []
  },
  {
   "cell_type": "markdown",
   "metadata": {},
   "source": [
    "---\n",
    "# Tercer punto. Ajuste de curvas\n",
    "Los siguientes datos extraidos de la Federal Reserve Economic Data (FRED), son los salarios por empleado equivalente a tiempo completo en industrias privadas de EE.UU.: fondos, fideicomisos, etc. **entre los años 1998 y 2018**. \n",
    "\n",
    "https://www.quandl.com/data/FRED/N4461C0A052NBEA-Wage-and-salary-accruals-per-full-time-equivalent-employee-Domestic-private-industries-Funds-trusts-and-other-financial-vehicles "
   ]
  },
  {
   "cell_type": "code",
   "execution_count": 98,
   "metadata": {},
   "outputs": [],
   "source": [
    "import numpy as np\n",
    "y=np.array([ 55887.,  59365.,  65435.,  68065.,  71918.,  77257.,  92036.,\n",
    "        92645.,  99857.,  74935.,  78597.,  83134.,  87372., 104196.,\n",
    "       112597., 133821., 129107., 138259., 139083., 143762., 147334.])\n",
    "x=np.arange(8,29)"
   ]
  },
  {
   "cell_type": "code",
   "execution_count": 99,
   "metadata": {},
   "outputs": [
    {
     "data": {
      "text/plain": [
       "21"
      ]
     },
     "execution_count": 99,
     "metadata": {},
     "output_type": "execute_result"
    }
   ],
   "source": [
    "len(y)"
   ]
  },
  {
   "cell_type": "code",
   "execution_count": 100,
   "metadata": {
    "scrolled": false
   },
   "outputs": [
    {
     "data": {
      "image/png": "[encoded data removed]",
      "text/plain": [
       "<Figure size 432x288 with 1 Axes>"
      ]
     },
     "metadata": {
      "needs_background": "light"
     },
     "output_type": "display_data"
    }
   ],
   "source": [
    "plt.plot(x+1980,y)\n",
    "plt.grid()"
   ]
  },
  {
   "cell_type": "markdown",
   "metadata": {},
   "source": [
    "1. Ajuste los salarios con polinomios de grado 1 a 3 y muestre los errores de forma gráfica, ¿Qué polinómio se ajusta mejor?\n",
    "2. Muestre en un gráfico los datos y el polinómio que mejor se ajuste\n",
    "3. Use el modelo para averiguar el salario a mediados del año 2005 y para predecirlo en el año 2025. ¿Qué diferencias encuentra en cuanto a la interpolación (esto es, obtener un punto medio) y la extrapolación  (es decir, obtener un dato fuera del rango conocido)?"
   ]
  },
  {
   "cell_type": "code",
   "execution_count": 101,
   "metadata": {},
   "outputs": [
    {
     "data": {
      "image/png": "[encoded data removed]",
      "text/plain": [
       "<Figure size 432x288 with 1 Axes>"
      ]
     },
     "metadata": {
      "needs_background": "light"
     },
     "output_type": "display_data"
    }
   ],
   "source": [
    "m = 21\n",
    "x = np.linspace(0, 21, m)\n",
    "y = y\n",
    "\n",
    "plt.figure()\n",
    "plt.scatter(x, y, s=50)\n",
    "plt.plot(x, y, \"r\")\n",
    "plt.grid()\n",
    "\n",
    "\n"
   ]
  },
  {
   "cell_type": "code",
   "execution_count": 102,
   "metadata": {},
   "outputs": [],
   "source": [
    "import scipy.optimize as opt"
   ]
  },
  {
   "cell_type": "code",
   "execution_count": 103,
   "metadata": {},
   "outputs": [],
   "source": [
    "def funcion_de_salario_1(beta, X, y):\n",
    "    beta = np.reshape(beta, [2, -1])\n",
    "    y_pred = X @ beta\n",
    "    return ((y - y_pred).T @ (y - y_pred))[0][0]\n"
   ]
  },
  {
   "cell_type": "code",
   "execution_count": 104,
   "metadata": {},
   "outputs": [
    {
     "data": {
      "text/plain": [
       "array([[ 1.  ,  0.  ],\n",
       "       [ 1.  ,  1.05],\n",
       "       [ 1.  ,  2.1 ],\n",
       "       [ 1.  ,  3.15],\n",
       "       [ 1.  ,  4.2 ],\n",
       "       [ 1.  ,  5.25],\n",
       "       [ 1.  ,  6.3 ],\n",
       "       [ 1.  ,  7.35],\n",
       "       [ 1.  ,  8.4 ],\n",
       "       [ 1.  ,  9.45],\n",
       "       [ 1.  , 10.5 ],\n",
       "       [ 1.  , 11.55],\n",
       "       [ 1.  , 12.6 ],\n",
       "       [ 1.  , 13.65],\n",
       "       [ 1.  , 14.7 ],\n",
       "       [ 1.  , 15.75],\n",
       "       [ 1.  , 16.8 ],\n",
       "       [ 1.  , 17.85],\n",
       "       [ 1.  , 18.9 ],\n",
       "       [ 1.  , 19.95],\n",
       "       [ 1.  , 21.  ]])"
      ]
     },
     "execution_count": 104,
     "metadata": {},
     "output_type": "execute_result"
    }
   ],
   "source": [
    "ones = np.ones ([m, 1])\n",
    "x_1 = np.reshape(x, [m, -1])\n",
    "\n",
    "X = np.hstack((ones, x_1))\n",
    "X"
   ]
  },
  {
   "cell_type": "code",
   "execution_count": 105,
   "metadata": {},
   "outputs": [],
   "source": [
    "beta_inicial = np.random.rand(2)\n",
    "y = np.reshape(y, [m, -1])"
   ]
  },
  {
   "cell_type": "code",
   "execution_count": 106,
   "metadata": {},
   "outputs": [
    {
     "data": {
      "text/plain": [
       "219007269214.60303"
      ]
     },
     "execution_count": 106,
     "metadata": {},
     "output_type": "execute_result"
    }
   ],
   "source": [
    "funcion_de_salario_1(beta_inicial, X, y)\n"
   ]
  },
  {
   "cell_type": "code",
   "execution_count": 107,
   "metadata": {},
   "outputs": [
    {
     "data": {
      "text/plain": [
       "      fun: 2247933179.484002\n",
       " hess_inv: array([[ 0.08999368, -0.00624765],\n",
       "       [-0.00624765,  0.00059188]])\n",
       "      jac: array([ 0., 64.])\n",
       "  message: 'Desired error not necessarily achieved due to precision loss.'\n",
       "     nfev: 146\n",
       "      nit: 5\n",
       "     njev: 45\n",
       "   status: 2\n",
       "  success: False\n",
       "        x: array([52638.52645781,  4305.05611886])"
      ]
     },
     "execution_count": 107,
     "metadata": {},
     "output_type": "execute_result"
    }
   ],
   "source": [
    "solucion_1 = opt.minimize(funcion_de_salario_1, beta_inicial, args=(X, y))\n",
    "solucion_1"
   ]
  },
  {
   "cell_type": "code",
   "execution_count": 108,
   "metadata": {},
   "outputs": [
    {
     "data": {
      "text/plain": [
       "array([ 52638.52645781,  57158.83538261,  61679.14430741,  66199.45323221,\n",
       "        70719.762157  ,  75240.0710818 ,  79760.3800066 ,  84280.6889314 ,\n",
       "        88800.9978562 ,  93321.306781  ,  97841.6157058 , 102361.9246306 ,\n",
       "       106882.23355539, 111402.54248019, 115922.85140499, 120443.16032979,\n",
       "       124963.46925459, 129483.77817939, 134004.08710419, 138524.39602898,\n",
       "       143044.70495378])"
      ]
     },
     "execution_count": 108,
     "metadata": {},
     "output_type": "execute_result"
    }
   ],
   "source": [
    "y_pred_1 = X @ solucion_1.x\n",
    "y_pred_1"
   ]
  },
  {
   "cell_type": "code",
   "execution_count": 109,
   "metadata": {},
   "outputs": [],
   "source": [
    "def funcion_de_salario_2(beta, X, y):\n",
    "    beta = np.reshape(beta, [3, -1])\n",
    "    y_pred = X @ beta\n",
    "    return ((y - y_pred).T @ (y - y_pred))[0][0]\n"
   ]
  },
  {
   "cell_type": "code",
   "execution_count": 110,
   "metadata": {},
   "outputs": [
    {
     "data": {
      "text/plain": [
       "array([[  1.    ,   0.    ,   0.    ],\n",
       "       [  1.    ,   1.05  ,   1.1025],\n",
       "       [  1.    ,   2.1   ,   4.41  ],\n",
       "       [  1.    ,   3.15  ,   9.9225],\n",
       "       [  1.    ,   4.2   ,  17.64  ],\n",
       "       [  1.    ,   5.25  ,  27.5625],\n",
       "       [  1.    ,   6.3   ,  39.69  ],\n",
       "       [  1.    ,   7.35  ,  54.0225],\n",
       "       [  1.    ,   8.4   ,  70.56  ],\n",
       "       [  1.    ,   9.45  ,  89.3025],\n",
       "       [  1.    ,  10.5   , 110.25  ],\n",
       "       [  1.    ,  11.55  , 133.4025],\n",
       "       [  1.    ,  12.6   , 158.76  ],\n",
       "       [  1.    ,  13.65  , 186.3225],\n",
       "       [  1.    ,  14.7   , 216.09  ],\n",
       "       [  1.    ,  15.75  , 248.0625],\n",
       "       [  1.    ,  16.8   , 282.24  ],\n",
       "       [  1.    ,  17.85  , 318.6225],\n",
       "       [  1.    ,  18.9   , 357.21  ],\n",
       "       [  1.    ,  19.95  , 398.0025],\n",
       "       [  1.    ,  21.    , 441.    ]])"
      ]
     },
     "execution_count": 110,
     "metadata": {},
     "output_type": "execute_result"
    }
   ],
   "source": [
    "ones = np.ones([m, 1])\n",
    "x_1 = np.reshape(x, [m, -1])\n",
    "x_2 = np.reshape(x**2, [m, -1])\n",
    "\n",
    "X = np.hstack((ones, x_1, x_2))\n",
    "X"
   ]
  },
  {
   "cell_type": "code",
   "execution_count": 111,
   "metadata": {},
   "outputs": [],
   "source": [
    "beta_inicial = np.random.rand(3)\n",
    "y = np.reshape(y, [m, -1])"
   ]
  },
  {
   "cell_type": "code",
   "execution_count": 112,
   "metadata": {},
   "outputs": [
    {
     "data": {
      "text/plain": [
       "218638640542.86456"
      ]
     },
     "execution_count": 112,
     "metadata": {},
     "output_type": "execute_result"
    }
   ],
   "source": [
    "funcion_de_salario_2(beta_inicial, X, y)"
   ]
  },
  {
   "cell_type": "code",
   "execution_count": 113,
   "metadata": {},
   "outputs": [
    {
     "data": {
      "text/plain": [
       "      fun: 1818616347.0198011\n",
       " hess_inv: array([[ 1.70498943e-01, -3.17311456e-02,  1.23034516e-03],\n",
       "       [-3.17311456e-02,  8.45076728e-03, -3.77068657e-04],\n",
       "       [ 1.23034516e-03, -3.77068657e-04,  1.80698593e-05]])\n",
       "      jac: array([  0.,   0., -32.])\n",
       "  message: 'Desired error not necessarily achieved due to precision loss.'\n",
       "     nfev: 131\n",
       "      nit: 9\n",
       "     njev: 30\n",
       "   status: 2\n",
       "  success: False\n",
       "        x: array([61399.10260325,  1670.06009684,   125.47755105])"
      ]
     },
     "execution_count": 113,
     "metadata": {},
     "output_type": "execute_result"
    }
   ],
   "source": [
    "solucion_2 = opt.minimize(funcion_de_salario_2, beta_inicial, args=(X,y))\n",
    "solucion_2"
   ]
  },
  {
   "cell_type": "code",
   "execution_count": 114,
   "metadata": {},
   "outputs": [
    {
     "data": {
      "text/plain": [
       "array([ 61399.10260325,  63291.00470496,  65459.58480675,  67904.8429086 ,\n",
       "        70626.77901053,  73625.39311253,  76900.6852146 ,  80452.65531673,\n",
       "        84281.30341894,  88386.62952122,  92768.63362357,  97427.31572599,\n",
       "       102362.67582848, 107574.71393105, 113063.43003368, 118828.82413638,\n",
       "       124870.89623915, 131189.646342  , 137785.07444491, 144657.1805479 ,\n",
       "       151805.96465095])"
      ]
     },
     "execution_count": 114,
     "metadata": {},
     "output_type": "execute_result"
    }
   ],
   "source": [
    "y_pred_2 = X @ solucion_2.x\n",
    "y_pred_2"
   ]
  },
  {
   "cell_type": "code",
   "execution_count": 115,
   "metadata": {},
   "outputs": [],
   "source": [
    "def funcion_de_salario_3(beta, X, y):\n",
    "    beta = np.reshape(beta, [4, -1])\n",
    "    y_pred = X @ beta\n",
    "    return ((y - y_pred).T @ (y - y_pred))[0][0]"
   ]
  },
  {
   "cell_type": "code",
   "execution_count": 116,
   "metadata": {},
   "outputs": [
    {
     "data": {
      "text/plain": [
       "array([[1.00000000e+00, 0.00000000e+00, 0.00000000e+00, 0.00000000e+00],\n",
       "       [1.00000000e+00, 1.05000000e+00, 1.10250000e+00, 1.15762500e+00],\n",
       "       [1.00000000e+00, 2.10000000e+00, 4.41000000e+00, 9.26100000e+00],\n",
       "       [1.00000000e+00, 3.15000000e+00, 9.92250000e+00, 3.12558750e+01],\n",
       "       [1.00000000e+00, 4.20000000e+00, 1.76400000e+01, 7.40880000e+01],\n",
       "       [1.00000000e+00, 5.25000000e+00, 2.75625000e+01, 1.44703125e+02],\n",
       "       [1.00000000e+00, 6.30000000e+00, 3.96900000e+01, 2.50047000e+02],\n",
       "       [1.00000000e+00, 7.35000000e+00, 5.40225000e+01, 3.97065375e+02],\n",
       "       [1.00000000e+00, 8.40000000e+00, 7.05600000e+01, 5.92704000e+02],\n",
       "       [1.00000000e+00, 9.45000000e+00, 8.93025000e+01, 8.43908625e+02],\n",
       "       [1.00000000e+00, 1.05000000e+01, 1.10250000e+02, 1.15762500e+03],\n",
       "       [1.00000000e+00, 1.15500000e+01, 1.33402500e+02, 1.54079888e+03],\n",
       "       [1.00000000e+00, 1.26000000e+01, 1.58760000e+02, 2.00037600e+03],\n",
       "       [1.00000000e+00, 1.36500000e+01, 1.86322500e+02, 2.54330213e+03],\n",
       "       [1.00000000e+00, 1.47000000e+01, 2.16090000e+02, 3.17652300e+03],\n",
       "       [1.00000000e+00, 1.57500000e+01, 2.48062500e+02, 3.90698438e+03],\n",
       "       [1.00000000e+00, 1.68000000e+01, 2.82240000e+02, 4.74163200e+03],\n",
       "       [1.00000000e+00, 1.78500000e+01, 3.18622500e+02, 5.68741163e+03],\n",
       "       [1.00000000e+00, 1.89000000e+01, 3.57210000e+02, 6.75126900e+03],\n",
       "       [1.00000000e+00, 1.99500000e+01, 3.98002500e+02, 7.94014987e+03],\n",
       "       [1.00000000e+00, 2.10000000e+01, 4.41000000e+02, 9.26100000e+03]])"
      ]
     },
     "execution_count": 116,
     "metadata": {},
     "output_type": "execute_result"
    }
   ],
   "source": [
    "ones = np.ones ([m, 1])\n",
    "x_1 = np.reshape(x, [m, -1])\n",
    "x_2 = np.reshape(x**2, [m, -1])\n",
    "x_3 = np.reshape(x**3, [m, -1])\n",
    "\n",
    "X = np.hstack((ones, x_1, x_2, x_3))\n",
    "X"
   ]
  },
  {
   "cell_type": "code",
   "execution_count": 117,
   "metadata": {},
   "outputs": [],
   "source": [
    "beta_inicial = np.random.rand(4)\n",
    "y = np.reshape(y, [m, -1])\n"
   ]
  },
  {
   "cell_type": "code",
   "execution_count": 118,
   "metadata": {},
   "outputs": [
    {
     "data": {
      "text/plain": [
       "216183136068.61713"
      ]
     },
     "execution_count": 118,
     "metadata": {},
     "output_type": "execute_result"
    }
   ],
   "source": [
    "funcion_de_salario_3(beta_inicial, X, y)\n"
   ]
  },
  {
   "cell_type": "code",
   "execution_count": 119,
   "metadata": {
    "scrolled": true
   },
   "outputs": [
    {
     "data": {
      "text/plain": [
       "      fun: 1746809636.5912142\n",
       " hess_inv: array([[ 7.41915807e-05, -3.15321978e-05,  5.70092334e-05,\n",
       "        -3.70906171e-06],\n",
       "       [-3.15321978e-05,  1.34024552e-05, -2.42320020e-05,\n",
       "         1.57576244e-06],\n",
       "       [ 5.70092334e-05, -2.42320020e-05,  4.38152528e-05,\n",
       "        -2.84840983e-06],\n",
       "       [-3.70906171e-06,  1.57576244e-06, -2.84840983e-06,\n",
       "         1.85845611e-07]])\n",
       "      jac: array([    0.,    32.,   -64., -1296.])\n",
       "  message: 'Desired error not necessarily achieved due to precision loss.'\n",
       "     nfev: 635\n",
       "      nit: 56\n",
       "     njev: 127\n",
       "   status: 2\n",
       "  success: False\n",
       "        x: array([ 5.77297805e+04,  4.06393010e+03, -1.66591063e+02,  9.27240912e+00])"
      ]
     },
     "execution_count": 119,
     "metadata": {},
     "output_type": "execute_result"
    }
   ],
   "source": [
    "solucion_3 = opt.minimize(funcion_de_salario_3, beta_inicial, args=(X, y))\n",
    "solucion_3"
   ]
  },
  {
   "cell_type": "code",
   "execution_count": 120,
   "metadata": {},
   "outputs": [
    {
     "data": {
      "text/plain": [
       "array([ 57729.78045477,  61823.97438479,  65615.2388569 ,  69167.97770674,\n",
       "        72546.59476995,  75815.49388218,  79039.07887907,  82281.75359627,\n",
       "        85607.9218694 ,  89081.98753412,  92768.35442606,  96731.42638088,\n",
       "       101035.6072342 , 105745.30082168, 110924.91097895, 116638.84154166,\n",
       "       122951.49634545, 129927.27922596, 137630.59401884, 146125.84455972,\n",
       "       155477.43468424])"
      ]
     },
     "execution_count": 120,
     "metadata": {},
     "output_type": "execute_result"
    }
   ],
   "source": [
    "y_pred_3 = X @ solucion_3.x\n",
    "y_pred_3 "
   ]
  },
  {
   "cell_type": "code",
   "execution_count": 121,
   "metadata": {},
   "outputs": [
    {
     "data": {
      "image/png": "[encoded data removed]",
      "text/plain": [
       "<Figure size 432x288 with 1 Axes>"
      ]
     },
     "metadata": {
      "needs_background": "light"
     },
     "output_type": "display_data"
    }
   ],
   "source": [
    "m = 21\n",
    "\n",
    "x = np.linspace(0, 21, m )\n",
    "y = y\n",
    "\n",
    "plt.figure()\n",
    "plt.scatter(x, y, s=10)\n",
    "plt.plot(x, y_pred_1, \"r\")\n",
    "plt.plot(x, y_pred_2, \"b\")\n",
    "plt.plot(x, y_pred_3, \"g\")\n",
    "plt.grid()\n"
   ]
  },
  {
   "cell_type": "markdown",
   "metadata": {},
   "source": [
    "El polinomio que mejor se ajusta es el x_3, que corresponde al color verde "
   ]
  },
  {
   "cell_type": "code",
   "execution_count": 122,
   "metadata": {},
   "outputs": [
    {
     "data": {
      "image/png": "[encoded data removed]",
      "text/plain": [
       "<Figure size 432x288 with 1 Axes>"
      ]
     },
     "metadata": {
      "needs_background": "light"
     },
     "output_type": "display_data"
    }
   ],
   "source": [
    "m = 21\n",
    "\n",
    "x = np.linspace(0, 21, m )\n",
    "y = y\n",
    "\n",
    "plt.figure()\n",
    "plt.scatter(x, y, s=10)\n",
    "plt.plot(x, y_pred_3, \"g\")\n",
    "plt.grid()"
   ]
  },
  {
   "cell_type": "code",
   "execution_count": 123,
   "metadata": {},
   "outputs": [
    {
     "data": {
      "image/png": "[encoded data removed]",
      "text/plain": [
       "<Figure size 432x288 with 1 Axes>"
      ]
     },
     "metadata": {
      "needs_background": "light"
     },
     "output_type": "display_data"
    }
   ],
   "source": [
    "m = 21\n",
    "\n",
    "x = np.linspace(8, 17, m )\n",
    "y = y\n",
    "\n",
    "plt.figure()\n",
    "plt.scatter(x, y, s=10)\n",
    "plt.plot(x, y_pred_3, \"g\")\n",
    "plt.grid()\n",
    "\n",
    "#Como el primer dato es 1998 y corresponde al 1, el dato de 2005 = 8, y 2025 = 17"
   ]
  },
  {
   "cell_type": "code",
   "execution_count": 128,
   "metadata": {},
   "outputs": [
    {
     "data": {
      "text/plain": [
       "85607.92186939906"
      ]
     },
     "execution_count": 128,
     "metadata": {},
     "output_type": "execute_result"
    }
   ],
   "source": [
    "y_pred_3[8] #Prediccion en 2005"
   ]
  },
  {
   "cell_type": "code",
   "execution_count": 125,
   "metadata": {},
   "outputs": [
    {
     "data": {
      "text/plain": [
       "129927.27922596304"
      ]
     },
     "execution_count": 125,
     "metadata": {},
     "output_type": "execute_result"
    }
   ],
   "source": [
    "y_pred_3[17] #Valor en 2025"
   ]
  },
  {
   "cell_type": "code",
   "execution_count": null,
   "metadata": {},
   "outputs": [],
   "source": []
  },
  {
   "cell_type": "code",
   "execution_count": null,
   "metadata": {},
   "outputs": [],
   "source": []
  }
 ],
 "metadata": {
  "kernelspec": {
   "display_name": "Python 3 (ipykernel)",
   "language": "python",
   "name": "python3"
  },
  "language_info": {
   "codemirror_mode": {
    "name": "ipython",
    "version": 3
   },
   "file_extension": ".py",
   "mimetype": "text/x-python",
   "name": "python",
   "nbconvert_exporter": "python",
   "pygments_lexer": "ipython3",
   "version": "3.9.12"
  }
 },
 "nbformat": 4,
 "nbformat_minor": 4
}
