{
 "cells": [
  {
   "cell_type": "markdown",
   "id": "a659d981",
   "metadata": {},
   "source": [
    "# Presentación Personal "
   ]
  },
  {
   "cell_type": "markdown",
   "id": "e6e3b294",
   "metadata": {},
   "source": [
    "![](https://th.bing.com/th/id/R.4cb4bda9ea8aa4bacf82172858a68312?rik=jKIwULugOvNheg&riu=http%3a%2f%2fwww.tumejoreducacion.com%2fwp-content%2fuploads%2f2017%2f05%2fLogo_ITESO_normal.jpg&ehk=pq4f%2fEXIKSNIfRmKYOPlOfP0Bh%2fC3j4Xz8GA%2bK228pI%3d&risl=&pid=ImgRaw&r=0)"
   ]
  },
  {
   "cell_type": "markdown",
   "id": "6fab7eaf",
   "metadata": {},
   "source": [
    "## Por Maximiliano Jiménez ##"
   ]
  },
  {
   "cell_type": "markdown",
   "id": "b4cff55f",
   "metadata": {},
   "source": [
    "Hola, mi nombre completo es **Ignacio Maximiliano Jiménez Ramírez** tengo 23 años y naci un 21 de 1999 en el hospital civil en Guadalajara, Jalisco, México. "
   ]
  },
  {
   "cell_type": "markdown",
   "id": "e33b1c7c",
   "metadata": {},
   "source": [
    "Actualmente estoy cursando la carrera de Ing. Financiera en El Instituto Teconológico de Estudios Superiores de Occidente. Particularmente hablando, en mi formación académica he tenido la oportunidad de nutrirme con un conjunto variopinto de temas referentes al ambito en el que me estoy educando.  "
   ]
  },
  {
   "cell_type": "markdown",
   "id": "f860c6cd",
   "metadata": {},
   "source": [
    "Principalmente, uno de los temas que más han percado mi atención fue *Simulacion Matématica de fenomenos*, debido a su gran margen de aplicación con la realidad profesional en la que uno se enfrenta   "
   ]
  },
  {
   "cell_type": "markdown",
   "id": "2d68d72f",
   "metadata": {},
   "source": [
    "No obstante, he de admitir que han aparecido otros candidatos con el potencial de tomar su lugar, tales como: "
   ]
  },
  {
   "cell_type": "markdown",
   "id": "a221f4be",
   "metadata": {},
   "source": [
    "* Matemáticas de las finanzas"
   ]
  },
  {
   "cell_type": "markdown",
   "id": "ba92eeb9",
   "metadata": {},
   "source": [
    "* Economia"
   ]
  },
  {
   "cell_type": "markdown",
   "id": "37e0d70b",
   "metadata": {},
   "source": [
    "Finalmente, estoy al tanto de que todavia estoy en un momento muy temprano de la carrera, por lo que no estoy completamente seguro de que me ha gustado más."
   ]
  },
  {
   "cell_type": "markdown",
   "id": "dbf385c1",
   "metadata": {},
   "source": [
    "Pdt. Planeo recordar la formula $y=mx+b$, ya que sirve para muchas cosas."
   ]
  },
  {
   "cell_type": "code",
   "execution_count": null,
   "id": "66526d42",
   "metadata": {},
   "outputs": [],
   "source": []
  }
 ],
 "metadata": {
  "kernelspec": {
   "display_name": "Python 3 (ipykernel)",
   "language": "python",
   "name": "python3"
  },
  "language_info": {
   "codemirror_mode": {
    "name": "ipython",
    "version": 3
   },
   "file_extension": ".py",
   "mimetype": "text/x-python",
   "name": "python",
   "nbconvert_exporter": "python",
   "pygments_lexer": "ipython3",
   "version": "3.9.12"
  }
 },
 "nbformat": 4,
 "nbformat_minor": 5
}
