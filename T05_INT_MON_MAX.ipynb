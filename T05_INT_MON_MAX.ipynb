{
 "cells": [
  {
   "cell_type": "markdown",
   "metadata": {},
   "source": [
    "# TAREA"
   ]
  },
  {
   "cell_type": "markdown",
   "metadata": {},
   "source": [
    "## Integración Montecarlo"
   ]
  },
  {
   "cell_type": "markdown",
   "metadata": {},
   "source": [
    "1. Realizar las siguientes integrales. Poner los resultados en una tabla cuyas filas correspondan a la cantidad de términos utilizados en la aproximación (usar 10, 100, 1000, 10000 y 100000 términos) y cuyas columnas correspondan a las funciones.\n",
    "    + $\\int_{1}^{3} e^{x}\\log(x)\\text{d}x$.\n",
    "    + $\\int_1^3 \\sin(x)\\ln(x) \\text{d}x$"
   ]
  },
  {
   "cell_type": "code",
   "execution_count": 4,
   "metadata": {},
   "outputs": [],
   "source": [
    "import matplotlib.pyplot as plt\n",
    "%matplotlib inline\n",
    "import numpy as np \n",
    "import random \n",
    "import pandas as pd"
   ]
  },
  {
   "cell_type": "code",
   "execution_count": 18,
   "metadata": {},
   "outputs": [],
   "source": [
    "def f1(x) :\n",
    "    return np.exp(x)*np.log(x)\n",
    "\n",
    "def f2(x): \n",
    "    return np.sin(x)*np.log(x)"
   ]
  },
  {
   "cell_type": "code",
   "execution_count": 16,
   "metadata": {},
   "outputs": [],
   "source": [
    "N = np.logspace(1, 5, 5)\n",
    "table = pd.DataFrame(columns=['Aproximación Función 1', 'Error Función 1', 'Aproximación Función 2', 'Error Función 2'], index = N)"
   ]
  },
  {
   "cell_type": "code",
   "execution_count": 20,
   "metadata": {},
   "outputs": [],
   "source": [
    "def montecarlo(f, N, a, b) :\n",
    "    u = np.random.uniform(a, b, round(N)) # Generamos un vector con números aleatorios.\n",
    "    return np.mean(f(u))*(b-a)"
   ]
  },
  {
   "cell_type": "code",
   "execution_count": 21,
   "metadata": {},
   "outputs": [
    {
     "data": {
      "text/html": [
       "<div>\n",
       "<style scoped>\n",
       "    .dataframe tbody tr th:only-of-type {\n",
       "        vertical-align: middle;\n",
       "    }\n",
       "\n",
       "    .dataframe tbody tr th {\n",
       "        vertical-align: top;\n",
       "    }\n",
       "\n",
       "    .dataframe thead th {\n",
       "        text-align: right;\n",
       "    }\n",
       "</style>\n",
       "<table border=\"1\" class=\"dataframe\">\n",
       "  <thead>\n",
       "    <tr style=\"text-align: right;\">\n",
       "      <th></th>\n",
       "      <th>Aproximación Función 1</th>\n",
       "      <th>Error Función 1</th>\n",
       "      <th>Aproximación Función 2</th>\n",
       "      <th>Error Función 2</th>\n",
       "    </tr>\n",
       "  </thead>\n",
       "  <tbody>\n",
       "    <tr>\n",
       "      <th>10.0</th>\n",
       "      <td>0.54895</td>\n",
       "      <td>6.18894</td>\n",
       "      <td>0.063685</td>\n",
       "      <td>0.075695</td>\n",
       "    </tr>\n",
       "    <tr>\n",
       "      <th>100.0</th>\n",
       "      <td>0.556236</td>\n",
       "      <td>6.181654</td>\n",
       "      <td>0.063635</td>\n",
       "      <td>0.075745</td>\n",
       "    </tr>\n",
       "    <tr>\n",
       "      <th>1000.0</th>\n",
       "      <td>0.558819</td>\n",
       "      <td>6.179071</td>\n",
       "      <td>0.063634</td>\n",
       "      <td>0.075746</td>\n",
       "    </tr>\n",
       "    <tr>\n",
       "      <th>10000.0</th>\n",
       "      <td>0.558088</td>\n",
       "      <td>6.179802</td>\n",
       "      <td>0.063645</td>\n",
       "      <td>0.075735</td>\n",
       "    </tr>\n",
       "    <tr>\n",
       "      <th>100000.0</th>\n",
       "      <td>0.558037</td>\n",
       "      <td>6.179853</td>\n",
       "      <td>0.063644</td>\n",
       "      <td>0.075736</td>\n",
       "    </tr>\n",
       "  </tbody>\n",
       "</table>\n",
       "</div>"
      ],
      "text/plain": [
       "         Aproximación Función 1 Error Función 1 Aproximación Función 2  \\\n",
       "10.0                    0.54895         6.18894               0.063685   \n",
       "100.0                  0.556236        6.181654               0.063635   \n",
       "1000.0                 0.558819        6.179071               0.063634   \n",
       "10000.0                0.558088        6.179802               0.063645   \n",
       "100000.0               0.558037        6.179853               0.063644   \n",
       "\n",
       "         Error Función 2  \n",
       "10.0            0.075695  \n",
       "100.0           0.075745  \n",
       "1000.0          0.075746  \n",
       "10000.0         0.075735  \n",
       "100000.0        0.075736  "
      ]
     },
     "execution_count": 21,
     "metadata": {},
     "output_type": "execute_result"
    }
   ],
   "source": [
    "for i in N :\n",
    "    table.loc[i, 'Aproximación Función 1'] = montecarlo(f1, int(i), 2, 2.1)\n",
    "    table['Error Función 1'] = np.abs( 6.73789 - table['Aproximación Función 1'])\n",
    "    table.loc[i, 'Aproximación Función 2'] = montecarlo(f2, int(i), 2, 2.1)\n",
    "    table['Error Función 2'] = np.abs( 0.13938 - table['Aproximación Función 2']) \n",
    "table"
   ]
  },
  {
   "cell_type": "markdown",
   "metadata": {},
   "source": [
    "2. Aproximar el área de la región descrita por\n",
    "\n",
    "$$x^2+2y^2\\leq-2x+8y-7$$\n",
    "\n",
    "Poner los resultados en una tabla cuyas filas correspondan a la cantidad de términos utilizados en la aproximación (usar 10, 100, 1000, 10000 y 100000 términos) y en las columnas el valor de aproximación y el error relativo.\n",
    "\n",
    "Definir unos límites adecuados $a_1$, $b_1$, $a_2$ y $b_2$, para la región $R=\\left[a_1,b_1\\right]\\times\\left[a_2,b_2\\right]$"
   ]
  },
  {
   "cell_type": "code",
   "execution_count": 1,
   "metadata": {},
   "outputs": [],
   "source": [
    "import numpy as np\n",
    "import matplotlib.pyplot as plt\n",
    "%matplotlib inline"
   ]
  },
  {
   "cell_type": "code",
   "execution_count": 2,
   "metadata": {},
   "outputs": [],
   "source": [
    "def funcion(x, y):\n",
    "    return x**2 + 2*y**2 <= -1*2*x + 8*y - 7"
   ]
  },
  {
   "cell_type": "code",
   "execution_count": 5,
   "metadata": {},
   "outputs": [
    {
     "data": {
      "text/plain": [
       "<matplotlib.collections.PathCollection at 0x1dcffccd520>"
      ]
     },
     "execution_count": 5,
     "metadata": {},
     "output_type": "execute_result"
    },
    {
     "data": {
      "image/png": "[encoded data removed]",
      "text/plain": [
       "<Figure size 432x288 with 1 Axes>"
      ]
     },
     "metadata": {
      "needs_background": "light"
     },
     "output_type": "display_data"
    }
   ],
   "source": [
    "x = np.random.uniform(-3, 4, 1000)\n",
    "y = np.random.uniform(-3, 4, 1000)\n",
    "X, Y = np.meshgrid(x, y)\n",
    "plt.figure()\n",
    "plt.scatter(X, Y, c=funcion(X, Y))"
   ]
  },
  {
   "cell_type": "code",
   "execution_count": 6,
   "metadata": {},
   "outputs": [],
   "source": [
    "def montecarlo(region, ax, bx, ay, by, N):\n",
    "    x = np.random.uniform(ax, bx, N)\n",
    "    y = np.random.uniform(ay, by, N)\n",
    "    B = region(x, y)\n",
    "    AR = (bx - ax) * (by - ay)\n",
    "    return np.mean(B) * AR\n"
   ]
  },
  {
   "cell_type": "code",
   "execution_count": 7,
   "metadata": {},
   "outputs": [
    {
     "data": {
      "text/plain": [
       "4.5684000000000005"
      ]
     },
     "execution_count": 7,
     "metadata": {},
     "output_type": "execute_result"
    }
   ],
   "source": [
    "montecarlo(funcion, -3, 3, -3, 3, 10000)"
   ]
  },
  {
   "cell_type": "markdown",
   "metadata": {},
   "source": [
    "3. Describe 3 casos de uso de integración Montecarlo en tu ingeniería."
   ]
  },
  {
   "cell_type": "markdown",
   "metadata": {},
   "source": []
  },
  {
   "cell_type": "markdown",
   "metadata": {},
   "source": [
    "1. El margen de utilidades de un empresario que vende colchones se representa por la siguiente función $$(x^2-5)-(0.16x)$$, si se quiere calcular las ventas del dia 15 al 28 ¿Cuantas ventas fueron en total? "
   ]
  },
  {
   "cell_type": "code",
   "execution_count": 69,
   "metadata": {},
   "outputs": [],
   "source": [
    "import numpy as np\n",
    "import matplotlib.pyplot as plt\n",
    "%matplotlib inline"
   ]
  },
  {
   "cell_type": "code",
   "execution_count": 70,
   "metadata": {},
   "outputs": [],
   "source": [
    "def f1(x):\n",
    "    return ((x**2)-5)-(0.16*x)"
   ]
  },
  {
   "cell_type": "code",
   "execution_count": 71,
   "metadata": {},
   "outputs": [
    {
     "data": {
      "text/html": [
       "<div>\n",
       "<style scoped>\n",
       "    .dataframe tbody tr th:only-of-type {\n",
       "        vertical-align: middle;\n",
       "    }\n",
       "\n",
       "    .dataframe tbody tr th {\n",
       "        vertical-align: top;\n",
       "    }\n",
       "\n",
       "    .dataframe thead th {\n",
       "        text-align: right;\n",
       "    }\n",
       "</style>\n",
       "<table border=\"1\" class=\"dataframe\">\n",
       "  <thead>\n",
       "    <tr style=\"text-align: right;\">\n",
       "      <th></th>\n",
       "      <th>Aproximación Función 1</th>\n",
       "      <th>Error Función 1</th>\n",
       "    </tr>\n",
       "  </thead>\n",
       "  <tbody>\n",
       "    <tr>\n",
       "      <th>25.215002</th>\n",
       "      <td>NaN</td>\n",
       "      <td>NaN</td>\n",
       "    </tr>\n",
       "    <tr>\n",
       "      <th>24.179966</th>\n",
       "      <td>NaN</td>\n",
       "      <td>NaN</td>\n",
       "    </tr>\n",
       "    <tr>\n",
       "      <th>19.129008</th>\n",
       "      <td>NaN</td>\n",
       "      <td>NaN</td>\n",
       "    </tr>\n",
       "    <tr>\n",
       "      <th>20.265201</th>\n",
       "      <td>NaN</td>\n",
       "      <td>NaN</td>\n",
       "    </tr>\n",
       "    <tr>\n",
       "      <th>25.348270</th>\n",
       "      <td>NaN</td>\n",
       "      <td>NaN</td>\n",
       "    </tr>\n",
       "    <tr>\n",
       "      <th>...</th>\n",
       "      <td>...</td>\n",
       "      <td>...</td>\n",
       "    </tr>\n",
       "    <tr>\n",
       "      <th>20.883676</th>\n",
       "      <td>NaN</td>\n",
       "      <td>NaN</td>\n",
       "    </tr>\n",
       "    <tr>\n",
       "      <th>22.122863</th>\n",
       "      <td>NaN</td>\n",
       "      <td>NaN</td>\n",
       "    </tr>\n",
       "    <tr>\n",
       "      <th>22.631365</th>\n",
       "      <td>NaN</td>\n",
       "      <td>NaN</td>\n",
       "    </tr>\n",
       "    <tr>\n",
       "      <th>19.873208</th>\n",
       "      <td>NaN</td>\n",
       "      <td>NaN</td>\n",
       "    </tr>\n",
       "    <tr>\n",
       "      <th>18.461483</th>\n",
       "      <td>NaN</td>\n",
       "      <td>NaN</td>\n",
       "    </tr>\n",
       "  </tbody>\n",
       "</table>\n",
       "<p>1000 rows × 2 columns</p>\n",
       "</div>"
      ],
      "text/plain": [
       "          Aproximación Función 1 Error Función 1\n",
       "25.215002                    NaN             NaN\n",
       "24.179966                    NaN             NaN\n",
       "19.129008                    NaN             NaN\n",
       "20.265201                    NaN             NaN\n",
       "25.348270                    NaN             NaN\n",
       "...                          ...             ...\n",
       "20.883676                    NaN             NaN\n",
       "22.122863                    NaN             NaN\n",
       "22.631365                    NaN             NaN\n",
       "19.873208                    NaN             NaN\n",
       "18.461483                    NaN             NaN\n",
       "\n",
       "[1000 rows x 2 columns]"
      ]
     },
     "execution_count": 71,
     "metadata": {},
     "output_type": "execute_result"
    }
   ],
   "source": [
    "N = np.random.uniform(15, 28, 1000)\n",
    "table = pd.DataFrame(columns=['Aproximación Función 1', 'Error Función 1'], index = N)\n",
    "table"
   ]
  },
  {
   "cell_type": "code",
   "execution_count": 72,
   "metadata": {},
   "outputs": [],
   "source": [
    "def montecarlo(f, N, a, b) :\n",
    "    u = np.random.uniform(a, b, round(N)) # Generamos un vector con números aleatorios.\n",
    "    return np.mean(f(u))*(b-a)"
   ]
  },
  {
   "cell_type": "code",
   "execution_count": 73,
   "metadata": {
    "scrolled": true
   },
   "outputs": [
    {
     "data": {
      "text/html": [
       "<div>\n",
       "<style scoped>\n",
       "    .dataframe tbody tr th:only-of-type {\n",
       "        vertical-align: middle;\n",
       "    }\n",
       "\n",
       "    .dataframe tbody tr th {\n",
       "        vertical-align: top;\n",
       "    }\n",
       "\n",
       "    .dataframe thead th {\n",
       "        text-align: right;\n",
       "    }\n",
       "</style>\n",
       "<table border=\"1\" class=\"dataframe\">\n",
       "  <thead>\n",
       "    <tr style=\"text-align: right;\">\n",
       "      <th></th>\n",
       "      <th>Aproximación Función 1</th>\n",
       "      <th>Error Función 1</th>\n",
       "    </tr>\n",
       "  </thead>\n",
       "  <tbody>\n",
       "    <tr>\n",
       "      <th>25.215002</th>\n",
       "      <td>6286.630138</td>\n",
       "      <td>815443.369862</td>\n",
       "    </tr>\n",
       "    <tr>\n",
       "      <th>24.179966</th>\n",
       "      <td>6674.143617</td>\n",
       "      <td>815055.856383</td>\n",
       "    </tr>\n",
       "    <tr>\n",
       "      <th>19.129008</th>\n",
       "      <td>6847.706175</td>\n",
       "      <td>814882.293825</td>\n",
       "    </tr>\n",
       "    <tr>\n",
       "      <th>20.265201</th>\n",
       "      <td>6081.26089</td>\n",
       "      <td>815648.73911</td>\n",
       "    </tr>\n",
       "    <tr>\n",
       "      <th>25.348270</th>\n",
       "      <td>6059.09902</td>\n",
       "      <td>815670.90098</td>\n",
       "    </tr>\n",
       "    <tr>\n",
       "      <th>...</th>\n",
       "      <td>...</td>\n",
       "      <td>...</td>\n",
       "    </tr>\n",
       "    <tr>\n",
       "      <th>20.883676</th>\n",
       "      <td>6526.378693</td>\n",
       "      <td>815203.621307</td>\n",
       "    </tr>\n",
       "    <tr>\n",
       "      <th>22.122863</th>\n",
       "      <td>6214.145877</td>\n",
       "      <td>815515.854123</td>\n",
       "    </tr>\n",
       "    <tr>\n",
       "      <th>22.631365</th>\n",
       "      <td>5916.187436</td>\n",
       "      <td>815813.812564</td>\n",
       "    </tr>\n",
       "    <tr>\n",
       "      <th>19.873208</th>\n",
       "      <td>7121.452691</td>\n",
       "      <td>814608.547309</td>\n",
       "    </tr>\n",
       "    <tr>\n",
       "      <th>18.461483</th>\n",
       "      <td>6097.349182</td>\n",
       "      <td>815632.650818</td>\n",
       "    </tr>\n",
       "  </tbody>\n",
       "</table>\n",
       "<p>1000 rows × 2 columns</p>\n",
       "</div>"
      ],
      "text/plain": [
       "          Aproximación Función 1 Error Función 1\n",
       "25.215002            6286.630138   815443.369862\n",
       "24.179966            6674.143617   815055.856383\n",
       "19.129008            6847.706175   814882.293825\n",
       "20.265201             6081.26089    815648.73911\n",
       "25.348270             6059.09902    815670.90098\n",
       "...                          ...             ...\n",
       "20.883676            6526.378693   815203.621307\n",
       "22.122863            6214.145877   815515.854123\n",
       "22.631365            5916.187436   815813.812564\n",
       "19.873208            7121.452691   814608.547309\n",
       "18.461483            6097.349182   815632.650818\n",
       "\n",
       "[1000 rows x 2 columns]"
      ]
     },
     "execution_count": 73,
     "metadata": {},
     "output_type": "execute_result"
    }
   ],
   "source": [
    "for i in N :\n",
    "    table.loc[i, 'Aproximación Función 1'] = montecarlo(f1, int(i), 15, 28)\n",
    "    table['Error Función 1'] = np.abs(821730 - table['Aproximación Función 1'])   \n",
    "table"
   ]
  },
  {
   "cell_type": "code",
   "execution_count": 74,
   "metadata": {},
   "outputs": [
    {
     "data": {
      "text/plain": [
       "6094203.971388298"
      ]
     },
     "execution_count": 74,
     "metadata": {},
     "output_type": "execute_result"
    }
   ],
   "source": [
    "table['Aproximación Función 1'].sum()"
   ]
  },
  {
   "cell_type": "markdown",
   "metadata": {},
   "source": []
  },
  {
   "cell_type": "markdown",
   "metadata": {},
   "source": [
    "Las utlidades generadas en cierto periodo de tiempo se obtienen a partir de la siguiente integral  $\\int_{2}^{28} \\frac{(x^2-4)}{x}\\text{d}x$."
   ]
  },
  {
   "cell_type": "code",
   "execution_count": 10,
   "metadata": {},
   "outputs": [],
   "source": [
    "import matplotlib.pyplot as plt\n",
    "%matplotlib inline\n",
    "import numpy as np \n",
    "import random \n",
    "import pandas as pd"
   ]
  },
  {
   "cell_type": "code",
   "execution_count": 11,
   "metadata": {},
   "outputs": [],
   "source": [
    "def funcion2(x): \n",
    "    return x**2-4/x"
   ]
  },
  {
   "cell_type": "code",
   "execution_count": 53,
   "metadata": {},
   "outputs": [
    {
     "data": {
      "text/html": [
       "<div>\n",
       "<style scoped>\n",
       "    .dataframe tbody tr th:only-of-type {\n",
       "        vertical-align: middle;\n",
       "    }\n",
       "\n",
       "    .dataframe tbody tr th {\n",
       "        vertical-align: top;\n",
       "    }\n",
       "\n",
       "    .dataframe thead th {\n",
       "        text-align: right;\n",
       "    }\n",
       "</style>\n",
       "<table border=\"1\" class=\"dataframe\">\n",
       "  <thead>\n",
       "    <tr style=\"text-align: right;\">\n",
       "      <th></th>\n",
       "      <th>Aproximación Función 1</th>\n",
       "      <th>Error Función 1</th>\n",
       "    </tr>\n",
       "  </thead>\n",
       "  <tbody>\n",
       "    <tr>\n",
       "      <th>14.013383</th>\n",
       "      <td>NaN</td>\n",
       "      <td>NaN</td>\n",
       "    </tr>\n",
       "    <tr>\n",
       "      <th>24.549355</th>\n",
       "      <td>NaN</td>\n",
       "      <td>NaN</td>\n",
       "    </tr>\n",
       "    <tr>\n",
       "      <th>16.848798</th>\n",
       "      <td>NaN</td>\n",
       "      <td>NaN</td>\n",
       "    </tr>\n",
       "    <tr>\n",
       "      <th>2.451478</th>\n",
       "      <td>NaN</td>\n",
       "      <td>NaN</td>\n",
       "    </tr>\n",
       "    <tr>\n",
       "      <th>13.071904</th>\n",
       "      <td>NaN</td>\n",
       "      <td>NaN</td>\n",
       "    </tr>\n",
       "    <tr>\n",
       "      <th>...</th>\n",
       "      <td>...</td>\n",
       "      <td>...</td>\n",
       "    </tr>\n",
       "    <tr>\n",
       "      <th>5.974191</th>\n",
       "      <td>NaN</td>\n",
       "      <td>NaN</td>\n",
       "    </tr>\n",
       "    <tr>\n",
       "      <th>6.937862</th>\n",
       "      <td>NaN</td>\n",
       "      <td>NaN</td>\n",
       "    </tr>\n",
       "    <tr>\n",
       "      <th>15.396365</th>\n",
       "      <td>NaN</td>\n",
       "      <td>NaN</td>\n",
       "    </tr>\n",
       "    <tr>\n",
       "      <th>24.563375</th>\n",
       "      <td>NaN</td>\n",
       "      <td>NaN</td>\n",
       "    </tr>\n",
       "    <tr>\n",
       "      <th>26.155864</th>\n",
       "      <td>NaN</td>\n",
       "      <td>NaN</td>\n",
       "    </tr>\n",
       "  </tbody>\n",
       "</table>\n",
       "<p>100 rows × 2 columns</p>\n",
       "</div>"
      ],
      "text/plain": [
       "          Aproximación Función 1 Error Función 1\n",
       "14.013383                    NaN             NaN\n",
       "24.549355                    NaN             NaN\n",
       "16.848798                    NaN             NaN\n",
       "2.451478                     NaN             NaN\n",
       "13.071904                    NaN             NaN\n",
       "...                          ...             ...\n",
       "5.974191                     NaN             NaN\n",
       "6.937862                     NaN             NaN\n",
       "15.396365                    NaN             NaN\n",
       "24.563375                    NaN             NaN\n",
       "26.155864                    NaN             NaN\n",
       "\n",
       "[100 rows x 2 columns]"
      ]
     },
     "execution_count": 53,
     "metadata": {},
     "output_type": "execute_result"
    }
   ],
   "source": [
    "N = np.random.uniform(2, 28, 100)\n",
    "table = pd.DataFrame(columns=['Aproximación Función 1', 'Error Función 1'], index = N)\n",
    "table"
   ]
  },
  {
   "cell_type": "code",
   "execution_count": 13,
   "metadata": {},
   "outputs": [],
   "source": [
    "def montecarlo(f, N, a, b) :\n",
    "    u = np.random.uniform(a, b, round(N)) # Generamos un vector con números aleatorios.\n",
    "    return np.mean(f(u))*(b-a)\n"
   ]
  },
  {
   "cell_type": "code",
   "execution_count": 54,
   "metadata": {
    "scrolled": true
   },
   "outputs": [
    {
     "data": {
      "text/html": [
       "<div>\n",
       "<style scoped>\n",
       "    .dataframe tbody tr th:only-of-type {\n",
       "        vertical-align: middle;\n",
       "    }\n",
       "\n",
       "    .dataframe tbody tr th {\n",
       "        vertical-align: top;\n",
       "    }\n",
       "\n",
       "    .dataframe thead th {\n",
       "        text-align: right;\n",
       "    }\n",
       "</style>\n",
       "<table border=\"1\" class=\"dataframe\">\n",
       "  <thead>\n",
       "    <tr style=\"text-align: right;\">\n",
       "      <th></th>\n",
       "      <th>Aproximación Función 1</th>\n",
       "      <th>Error Función 1</th>\n",
       "    </tr>\n",
       "  </thead>\n",
       "  <tbody>\n",
       "    <tr>\n",
       "      <th>14.013383</th>\n",
       "      <td>5988.953966</td>\n",
       "      <td>5982.216076</td>\n",
       "    </tr>\n",
       "    <tr>\n",
       "      <th>24.549355</th>\n",
       "      <td>6397.829905</td>\n",
       "      <td>6391.092015</td>\n",
       "    </tr>\n",
       "    <tr>\n",
       "      <th>16.848798</th>\n",
       "      <td>7098.752567</td>\n",
       "      <td>7092.014677</td>\n",
       "    </tr>\n",
       "    <tr>\n",
       "      <th>2.451478</th>\n",
       "      <td>11113.406158</td>\n",
       "      <td>11106.668268</td>\n",
       "    </tr>\n",
       "    <tr>\n",
       "      <th>13.071904</th>\n",
       "      <td>6744.29591</td>\n",
       "      <td>6737.55802</td>\n",
       "    </tr>\n",
       "    <tr>\n",
       "      <th>...</th>\n",
       "      <td>...</td>\n",
       "      <td>...</td>\n",
       "    </tr>\n",
       "    <tr>\n",
       "      <th>5.974191</th>\n",
       "      <td>11740.796513</td>\n",
       "      <td>11734.058623</td>\n",
       "    </tr>\n",
       "    <tr>\n",
       "      <th>6.937862</th>\n",
       "      <td>5258.572209</td>\n",
       "      <td>5251.834319</td>\n",
       "    </tr>\n",
       "    <tr>\n",
       "      <th>15.396365</th>\n",
       "      <td>11378.459334</td>\n",
       "      <td>11371.721444</td>\n",
       "    </tr>\n",
       "    <tr>\n",
       "      <th>24.563375</th>\n",
       "      <td>9265.330764</td>\n",
       "      <td>9258.592874</td>\n",
       "    </tr>\n",
       "    <tr>\n",
       "      <th>26.155864</th>\n",
       "      <td>7156.291232</td>\n",
       "      <td>7149.553342</td>\n",
       "    </tr>\n",
       "  </tbody>\n",
       "</table>\n",
       "<p>100 rows × 2 columns</p>\n",
       "</div>"
      ],
      "text/plain": [
       "          Aproximación Función 1 Error Función 1\n",
       "14.013383            5988.953966     5982.216076\n",
       "24.549355            6397.829905     6391.092015\n",
       "16.848798            7098.752567     7092.014677\n",
       "2.451478            11113.406158    11106.668268\n",
       "13.071904             6744.29591      6737.55802\n",
       "...                          ...             ...\n",
       "5.974191            11740.796513    11734.058623\n",
       "6.937862             5258.572209     5251.834319\n",
       "15.396365           11378.459334    11371.721444\n",
       "24.563375            9265.330764     9258.592874\n",
       "26.155864            7156.291232     7149.553342\n",
       "\n",
       "[100 rows x 2 columns]"
      ]
     },
     "execution_count": 54,
     "metadata": {},
     "output_type": "execute_result"
    }
   ],
   "source": [
    "for i in N :\n",
    "    table.loc[i, 'Aproximación Función 1'] = montecarlo(funcion2, int(i), 2, 28)\n",
    "    table['Error Función 1'] = np.abs( 6.73789 - table['Aproximación Función 1'])    \n",
    "table"
   ]
  },
  {
   "cell_type": "code",
   "execution_count": 57,
   "metadata": {},
   "outputs": [
    {
     "data": {
      "text/plain": [
       "740173.6397271602"
      ]
     },
     "execution_count": 57,
     "metadata": {},
     "output_type": "execute_result"
    }
   ],
   "source": [
    "table[\"Aproximación Función 1\"].sum()"
   ]
  },
  {
   "cell_type": "code",
   "execution_count": null,
   "metadata": {},
   "outputs": [],
   "source": []
  },
  {
   "cell_type": "markdown",
   "metadata": {},
   "source": []
  },
  {
   "cell_type": "markdown",
   "metadata": {},
   "source": [
    "Una compañia realizó un estudio de mercado para conocer el público meta de una empresa que vende calcetines.\n",
    "El público meta se ve representado por el área encerrada en la función.\n",
    "$$x^2 + y^2 <= -20 + 10x + 15y$$\n",
    "¿De que tamaño es el mercado meta de la empresa?\n"
   ]
  },
  {
   "cell_type": "code",
   "execution_count": 33,
   "metadata": {},
   "outputs": [],
   "source": [
    "import numpy as np\n",
    "import matplotlib.pyplot as plt\n",
    "%matplotlib inline"
   ]
  },
  {
   "cell_type": "code",
   "execution_count": 34,
   "metadata": {},
   "outputs": [],
   "source": [
    "def funcion3(x, y):\n",
    "    return x**2 + y**2 <= -1*20 + 10*x + 15*y"
   ]
  },
  {
   "cell_type": "code",
   "execution_count": 35,
   "metadata": {},
   "outputs": [
    {
     "data": {
      "text/plain": [
       "<matplotlib.collections.PathCollection at 0x1dd00097940>"
      ]
     },
     "execution_count": 35,
     "metadata": {},
     "output_type": "execute_result"
    },
    {
     "data": {
      "image/png": "[encoded data removed]",
      "text/plain": [
       "<Figure size 432x288 with 1 Axes>"
      ]
     },
     "metadata": {
      "needs_background": "light"
     },
     "output_type": "display_data"
    }
   ],
   "source": [
    "x = np.random.uniform(-3, 20, 1000)\n",
    "y = np.random.uniform(-3, 20, 1000)\n",
    "X, Y = np.meshgrid(x, y)\n",
    "plt.figure()\n",
    "plt.scatter(X, Y, c=funcion(X, Y))"
   ]
  },
  {
   "cell_type": "code",
   "execution_count": 36,
   "metadata": {},
   "outputs": [],
   "source": [
    "def montecarlo2(region, ax, bx, ay, by, N):\n",
    "    x = np.random.uniform(ax, bx, N)\n",
    "    y = np.random.uniform(ay, by, N)\n",
    "    B = region(x, y)\n",
    "    AR = (bx - ax) * (by - ay)\n",
    "    return np.mean(B) * AR\n"
   ]
  },
  {
   "cell_type": "code",
   "execution_count": 37,
   "metadata": {},
   "outputs": [
    {
     "data": {
      "text/plain": [
       "106.0928"
      ]
     },
     "execution_count": 37,
     "metadata": {},
     "output_type": "execute_result"
    }
   ],
   "source": [
    "montecarlo2(funcion3, -1, 10, -1, 10, 10000)"
   ]
  }
 ],
 "metadata": {
  "kernelspec": {
   "display_name": "Python 3 (ipykernel)",
   "language": "python",
   "name": "python3"
  },
  "language_info": {
   "codemirror_mode": {
    "name": "ipython",
    "version": 3
   },
   "file_extension": ".py",
   "mimetype": "text/x-python",
   "name": "python",
   "nbconvert_exporter": "python",
   "pygments_lexer": "ipython3",
   "version": "3.9.12"
  }
 },
 "nbformat": 4,
 "nbformat_minor": 2
}
