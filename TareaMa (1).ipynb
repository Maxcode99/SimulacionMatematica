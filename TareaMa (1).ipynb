{
 "cells": [
  {
   "cell_type": "markdown",
   "metadata": {},
   "source": [
    "# Tarea - Ajuste de curvas"
   ]
  },
  {
   "cell_type": "markdown",
   "metadata": {},
   "source": [
    "---\n",
    "### Problema 1\n",
    "\n",
    "Los siguientes datos representan el costo en dólares de la electricidad según Western Electricity Coordinating Council desde el 2014 (y su pronóstico para el 2040)\n",
    "\n",
    "Tomado de:\n",
    "https://www.quandl.com/data/EIA/AEO_2016_REF_NO_CPP_PRCE_NA_COMM_NA_ELC_NA_WECCRKS_NCNTPKWH_A-Electricity-End-Use-Prices-Commercial-Western-Electricity-Coordinating-Council-Rockies-No-CPP-AEO2016"
   ]
  },
  {
   "cell_type": "markdown",
   "metadata": {},
   "source": [
    "1. Ajuste estos datos a polinomios de grado 1 hasta 3 (los datos en $x$ corresponden a los años de 2014 a 2040, sin embargo son valores muy grandes para elevarlos a una potencia, use una representación para estos años, por ejemplo $2014 \\rightarrow 0$ y $2040\\rightarrow 26$).\n",
    "\n",
    "2. Muestre las tres curvas ajustadas junto a los datos de los costos en un solo gráfico"
   ]
  },
  {
   "cell_type": "code",
   "execution_count": 1,
   "metadata": {},
   "outputs": [],
   "source": [
    "import numpy as np\n",
    "import pandas as pd\n",
    "import matplotlib.pyplot as plt\n"
   ]
  },
  {
   "cell_type": "code",
   "execution_count": 2,
   "metadata": {},
   "outputs": [
    {
     "data": {
      "text/plain": [
       "27"
      ]
     },
     "execution_count": 2,
     "metadata": {},
     "output_type": "execute_result"
    }
   ],
   "source": [
    "import numpy as np\n",
    "# Datos extraidos de la página de quandl\n",
    "data = np.array([10.051101,  9.259127,  9.444813,  9.557723,  9.977324, 10.298326,\n",
    "       10.447217, 10.550506, 10.590784, 10.657418, 10.743085, 10.831965,\n",
    "       10.988435, 11.153055, 11.313326, 11.557165, 11.860136, 12.122511,\n",
    "       12.356448, 12.611391, 12.814569, 13.111372, 13.357134, 13.559012,\n",
    "       13.85861 , 14.135924, 14.436149])\n",
    "\n",
    "len(data)"
   ]
  },
  {
   "cell_type": "code",
   "execution_count": 3,
   "metadata": {},
   "outputs": [
    {
     "data": {
      "image/png": "[encoded data removed]",
      "text/plain": [
       "<Figure size 432x288 with 1 Axes>"
      ]
     },
     "metadata": {
      "needs_background": "light"
     },
     "output_type": "display_data"
    }
   ],
   "source": [
    "#Primero creamos una gráfica para visualizar los datos\n",
    "m = 27\n",
    "\n",
    "x = np.linspace(0, 26, m )\n",
    "y = data #Como data es array, y un array corresponde a un lista, se toma el array como y para llenar los datos\n",
    "\n",
    "plt.figure()\n",
    "plt.scatter(x, y, s=50)\n",
    "plt.plot(x, y, \"r\")\n",
    "plt.grid()\n"
   ]
  },
  {
   "cell_type": "code",
   "execution_count": 4,
   "metadata": {},
   "outputs": [],
   "source": [
    "import scipy.optimize as opt"
   ]
  },
  {
   "cell_type": "code",
   "execution_count": 5,
   "metadata": {},
   "outputs": [],
   "source": [
    "def funcion_de_costo_1(beta, X, y):\n",
    "    beta = np.reshape(beta, [2, -1])\n",
    "    y_pred = X @ beta\n",
    "    return ((y - y_pred).T @ (y - y_pred))[0][0]\n"
   ]
  },
  {
   "cell_type": "code",
   "execution_count": 6,
   "metadata": {},
   "outputs": [
    {
     "data": {
      "text/plain": [
       "array([[ 1.,  0.],\n",
       "       [ 1.,  1.],\n",
       "       [ 1.,  2.],\n",
       "       [ 1.,  3.],\n",
       "       [ 1.,  4.],\n",
       "       [ 1.,  5.],\n",
       "       [ 1.,  6.],\n",
       "       [ 1.,  7.],\n",
       "       [ 1.,  8.],\n",
       "       [ 1.,  9.],\n",
       "       [ 1., 10.],\n",
       "       [ 1., 11.],\n",
       "       [ 1., 12.],\n",
       "       [ 1., 13.],\n",
       "       [ 1., 14.],\n",
       "       [ 1., 15.],\n",
       "       [ 1., 16.],\n",
       "       [ 1., 17.],\n",
       "       [ 1., 18.],\n",
       "       [ 1., 19.],\n",
       "       [ 1., 20.],\n",
       "       [ 1., 21.],\n",
       "       [ 1., 22.],\n",
       "       [ 1., 23.],\n",
       "       [ 1., 24.],\n",
       "       [ 1., 25.],\n",
       "       [ 1., 26.]])"
      ]
     },
     "execution_count": 6,
     "metadata": {},
     "output_type": "execute_result"
    }
   ],
   "source": [
    "#Costos tomando en cuenta solo hasta x**1\n",
    "ones = np.ones ([m, 1])\n",
    "x_1 = np.reshape(x, [m, -1])\n",
    "\n",
    "X = np.hstack((ones, x_1))\n",
    "X"
   ]
  },
  {
   "cell_type": "code",
   "execution_count": 7,
   "metadata": {},
   "outputs": [],
   "source": [
    "#Acompañamos las beta's con las x y el resto de la función\n",
    "beta_inicial = np.random.rand(2)\n",
    "y = np.reshape(y, [m, -1])\n"
   ]
  },
  {
   "cell_type": "code",
   "execution_count": 8,
   "metadata": {},
   "outputs": [
    {
     "data": {
      "text/plain": [
       "738.6115618011044"
      ]
     },
     "execution_count": 8,
     "metadata": {},
     "output_type": "execute_result"
    }
   ],
   "source": [
    "funcion_de_costo_1(beta_inicial, X, y)\n"
   ]
  },
  {
   "cell_type": "code",
   "execution_count": 9,
   "metadata": {},
   "outputs": [
    {
     "data": {
      "text/plain": [
       "      fun: 2.3704889518157533\n",
       " hess_inv: array([[ 0.07010582, -0.00396825],\n",
       "       [-0.00396825,  0.00030525]])\n",
       "      jac: array([1.28149986e-06, 3.54647636e-06])\n",
       "  message: 'Optimization terminated successfully.'\n",
       "     nfev: 15\n",
       "      nit: 3\n",
       "     njev: 5\n",
       "   status: 0\n",
       "  success: True\n",
       "        x: array([9.11567641, 0.18667055])"
      ]
     },
     "execution_count": 9,
     "metadata": {},
     "output_type": "execute_result"
    }
   ],
   "source": [
    "#Encontramos el minimo\n",
    "solucion = opt.minimize(funcion_de_costo_1, beta_inicial, args=(X, y))\n",
    "solucion"
   ]
  },
  {
   "cell_type": "code",
   "execution_count": 10,
   "metadata": {},
   "outputs": [
    {
     "data": {
      "text/plain": [
       "array([ 9.11567641,  9.30234696,  9.48901751,  9.67568806,  9.86235861,\n",
       "       10.04902916, 10.23569971, 10.42237027, 10.60904082, 10.79571137,\n",
       "       10.98238192, 11.16905247, 11.35572302, 11.54239357, 11.72906412,\n",
       "       11.91573467, 12.10240523, 12.28907578, 12.47574633, 12.66241688,\n",
       "       12.84908743, 13.03575798, 13.22242853, 13.40909908, 13.59576963,\n",
       "       13.78244019, 13.96911074])"
      ]
     },
     "execution_count": 10,
     "metadata": {},
     "output_type": "execute_result"
    }
   ],
   "source": [
    "#Se encuentra la respectiva predicción\n",
    "y_pred_a = X @ solucion.x\n",
    "y_pred_a"
   ]
  },
  {
   "cell_type": "code",
   "execution_count": 11,
   "metadata": {},
   "outputs": [],
   "source": [
    "#Se repiten los pasos anteriores, solo que ahora se tomará hasta x**2\n",
    "def funcion_de_costo_2(beta, X, y):\n",
    "    beta = np.reshape(beta, [3, -1])\n",
    "    y_pred = X @ beta\n",
    "    return ((y - y_pred).T @ (y - y_pred))[0][0]\n",
    "\n",
    "\n"
   ]
  },
  {
   "cell_type": "code",
   "execution_count": 12,
   "metadata": {},
   "outputs": [
    {
     "data": {
      "text/plain": [
       "array([[  1.,   0.,   0.],\n",
       "       [  1.,   1.,   1.],\n",
       "       [  1.,   2.,   4.],\n",
       "       [  1.,   3.,   9.],\n",
       "       [  1.,   4.,  16.],\n",
       "       [  1.,   5.,  25.],\n",
       "       [  1.,   6.,  36.],\n",
       "       [  1.,   7.,  49.],\n",
       "       [  1.,   8.,  64.],\n",
       "       [  1.,   9.,  81.],\n",
       "       [  1.,  10., 100.],\n",
       "       [  1.,  11., 121.],\n",
       "       [  1.,  12., 144.],\n",
       "       [  1.,  13., 169.],\n",
       "       [  1.,  14., 196.],\n",
       "       [  1.,  15., 225.],\n",
       "       [  1.,  16., 256.],\n",
       "       [  1.,  17., 289.],\n",
       "       [  1.,  18., 324.],\n",
       "       [  1.,  19., 361.],\n",
       "       [  1.,  20., 400.],\n",
       "       [  1.,  21., 441.],\n",
       "       [  1.,  22., 484.],\n",
       "       [  1.,  23., 529.],\n",
       "       [  1.,  24., 576.],\n",
       "       [  1.,  25., 625.],\n",
       "       [  1.,  26., 676.]])"
      ]
     },
     "execution_count": 12,
     "metadata": {},
     "output_type": "execute_result"
    }
   ],
   "source": [
    "ones = np.ones([m, 1])\n",
    "x_1 = np.reshape(x, [m, -1])\n",
    "x_2 = np.reshape(x**2, [m, -1])\n",
    "\n",
    "X = np.hstack((ones, x_1, x_2))\n",
    "X"
   ]
  },
  {
   "cell_type": "code",
   "execution_count": 13,
   "metadata": {},
   "outputs": [],
   "source": [
    "beta_inicial = np.random.rand(3)\n",
    "y = np.reshape(y, [m, -1])\n"
   ]
  },
  {
   "cell_type": "code",
   "execution_count": 14,
   "metadata": {},
   "outputs": [
    {
     "data": {
      "text/plain": [
       "543570.3266114416"
      ]
     },
     "execution_count": 14,
     "metadata": {},
     "output_type": "execute_result"
    }
   ],
   "source": [
    "funcion_de_costo_2(beta_inicial, X, y)\n"
   ]
  },
  {
   "cell_type": "code",
   "execution_count": 15,
   "metadata": {},
   "outputs": [
    {
     "data": {
      "text/plain": [
       "      fun: 0.8443845194155863\n",
       " hess_inv: array([[ 1.44225506e-01, -2.17569785e-02,  6.84181711e-04],\n",
       "       [-2.17569785e-02,  4.57454418e-03, -1.64203611e-04],\n",
       "       [ 6.84181711e-04, -1.64203611e-04,  6.31552349e-06]])\n",
       "      jac: array([2.23517418e-07, 3.03238630e-06, 1.37835741e-06])\n",
       "  message: 'Optimization terminated successfully.'\n",
       "     nfev: 28\n",
       "      nit: 4\n",
       "     njev: 7\n",
       "   status: 0\n",
       "  success: True\n",
       "        x: array([9.59128641e+00, 7.25241365e-02, 4.39024687e-03])"
      ]
     },
     "execution_count": 15,
     "metadata": {},
     "output_type": "execute_result"
    }
   ],
   "source": [
    "solucion = opt.minimize(funcion_de_costo_2, beta_inicial, args=(X,y))\n",
    "solucion"
   ]
  },
  {
   "cell_type": "code",
   "execution_count": 16,
   "metadata": {},
   "outputs": [
    {
     "data": {
      "text/plain": [
       "array([ 9.59128641,  9.6682008 ,  9.75389567,  9.84837104,  9.95162691,\n",
       "       10.06366327, 10.18448012, 10.31407746, 10.4524553 , 10.59961364,\n",
       "       10.75555246, 10.92027179, 11.0937716 , 11.27605191, 11.46711271,\n",
       "       11.66695401, 11.8755758 , 12.09297808, 12.31916086, 12.55412413,\n",
       "       12.79786789, 13.05039215, 13.3116969 , 13.58178215, 13.86064789,\n",
       "       14.14829412, 14.44472085])"
      ]
     },
     "execution_count": 16,
     "metadata": {},
     "output_type": "execute_result"
    }
   ],
   "source": [
    "y_pred_b = X @ solucion.x\n",
    "y_pred_b"
   ]
  },
  {
   "cell_type": "code",
   "execution_count": 17,
   "metadata": {},
   "outputs": [],
   "source": [
    "#Repetimos el mismo proceso hasta llegar a x**3\n",
    "def funcion_de_costo_3(beta, X, y):\n",
    "    beta = np.reshape(beta, [4, -1])\n",
    "    y_pred = X @ beta\n",
    "    return ((y - y_pred).T @ (y - y_pred))[0][0]\n"
   ]
  },
  {
   "cell_type": "code",
   "execution_count": 18,
   "metadata": {},
   "outputs": [
    {
     "data": {
      "text/plain": [
       "array([[1.0000e+00, 0.0000e+00, 0.0000e+00, 0.0000e+00],\n",
       "       [1.0000e+00, 1.0000e+00, 1.0000e+00, 1.0000e+00],\n",
       "       [1.0000e+00, 2.0000e+00, 4.0000e+00, 8.0000e+00],\n",
       "       [1.0000e+00, 3.0000e+00, 9.0000e+00, 2.7000e+01],\n",
       "       [1.0000e+00, 4.0000e+00, 1.6000e+01, 6.4000e+01],\n",
       "       [1.0000e+00, 5.0000e+00, 2.5000e+01, 1.2500e+02],\n",
       "       [1.0000e+00, 6.0000e+00, 3.6000e+01, 2.1600e+02],\n",
       "       [1.0000e+00, 7.0000e+00, 4.9000e+01, 3.4300e+02],\n",
       "       [1.0000e+00, 8.0000e+00, 6.4000e+01, 5.1200e+02],\n",
       "       [1.0000e+00, 9.0000e+00, 8.1000e+01, 7.2900e+02],\n",
       "       [1.0000e+00, 1.0000e+01, 1.0000e+02, 1.0000e+03],\n",
       "       [1.0000e+00, 1.1000e+01, 1.2100e+02, 1.3310e+03],\n",
       "       [1.0000e+00, 1.2000e+01, 1.4400e+02, 1.7280e+03],\n",
       "       [1.0000e+00, 1.3000e+01, 1.6900e+02, 2.1970e+03],\n",
       "       [1.0000e+00, 1.4000e+01, 1.9600e+02, 2.7440e+03],\n",
       "       [1.0000e+00, 1.5000e+01, 2.2500e+02, 3.3750e+03],\n",
       "       [1.0000e+00, 1.6000e+01, 2.5600e+02, 4.0960e+03],\n",
       "       [1.0000e+00, 1.7000e+01, 2.8900e+02, 4.9130e+03],\n",
       "       [1.0000e+00, 1.8000e+01, 3.2400e+02, 5.8320e+03],\n",
       "       [1.0000e+00, 1.9000e+01, 3.6100e+02, 6.8590e+03],\n",
       "       [1.0000e+00, 2.0000e+01, 4.0000e+02, 8.0000e+03],\n",
       "       [1.0000e+00, 2.1000e+01, 4.4100e+02, 9.2610e+03],\n",
       "       [1.0000e+00, 2.2000e+01, 4.8400e+02, 1.0648e+04],\n",
       "       [1.0000e+00, 2.3000e+01, 5.2900e+02, 1.2167e+04],\n",
       "       [1.0000e+00, 2.4000e+01, 5.7600e+02, 1.3824e+04],\n",
       "       [1.0000e+00, 2.5000e+01, 6.2500e+02, 1.5625e+04],\n",
       "       [1.0000e+00, 2.6000e+01, 6.7600e+02, 1.7576e+04]])"
      ]
     },
     "execution_count": 18,
     "metadata": {},
     "output_type": "execute_result"
    }
   ],
   "source": [
    "ones = np.ones ([m, 1])\n",
    "x_1 = np.reshape(x, [m, -1])\n",
    "x_2 = np.reshape(x**2, [m, -1])\n",
    "x_3 = np.reshape(x**3, [m, -1])\n",
    "\n",
    "X = np.hstack((ones, x_1, x_2, x_3))\n",
    "X"
   ]
  },
  {
   "cell_type": "code",
   "execution_count": 19,
   "metadata": {},
   "outputs": [],
   "source": [
    "beta_inicial = np.random.rand(4)\n",
    "y = np.reshape(y, [m, -1])\n"
   ]
  },
  {
   "cell_type": "code",
   "execution_count": 20,
   "metadata": {},
   "outputs": [
    {
     "data": {
      "text/plain": [
       "645317567.8564472"
      ]
     },
     "execution_count": 20,
     "metadata": {},
     "output_type": "execute_result"
    }
   ],
   "source": [
    "funcion_de_costo_3(beta_inicial, X, y)\n"
   ]
  },
  {
   "cell_type": "code",
   "execution_count": 21,
   "metadata": {},
   "outputs": [
    {
     "data": {
      "text/plain": [
       "      fun: 0.8404346758290193\n",
       " hess_inv: array([[ 2.27239551e-01, -6.41153948e-02,  4.83488035e-03,\n",
       "        -1.06428170e-04],\n",
       "       [-6.41153948e-02,  2.61882939e-02, -2.28213559e-03,\n",
       "         5.43059581e-05],\n",
       "       [ 4.83488035e-03, -2.28213559e-03,  2.13851677e-04,\n",
       "        -5.32143914e-06],\n",
       "       [-1.06428170e-04,  5.43059581e-05, -5.32143914e-06,\n",
       "         1.36447107e-07]])\n",
       "      jac: array([0.00000000e+00, 1.49011612e-08, 1.34110451e-07, 2.38418579e-06])\n",
       "  message: 'Optimization terminated successfully.'\n",
       "     nfev: 100\n",
       "      nit: 9\n",
       "     njev: 20\n",
       "   status: 0\n",
       "  success: True\n",
       "        x: array([9.56752299e+00, 8.46495838e-02, 3.20207438e-03, 3.04659699e-05])"
      ]
     },
     "execution_count": 21,
     "metadata": {},
     "output_type": "execute_result"
    }
   ],
   "source": [
    "solucion = opt.minimize(funcion_de_costo_3, beta_inicial, args=(X, y))\n",
    "solucion"
   ]
  },
  {
   "cell_type": "code",
   "execution_count": 22,
   "metadata": {},
   "outputs": [
    {
     "data": {
      "text/plain": [
       "array([ 9.56752299,  9.65540511,  9.74987418,  9.85111299,  9.95930434,\n",
       "       10.07463101, 10.19727582, 10.32742155, 10.465251  , 10.61094696,\n",
       "       10.76469223, 10.92666962, 11.0970619 , 11.27605188, 11.46382236,\n",
       "       11.66055613, 11.86643598, 12.08164472, 12.30636513, 12.54078002,\n",
       "       12.78507218, 13.0394244 , 13.30401948, 13.57904022, 13.86466941,\n",
       "       14.16108985, 14.46848434])"
      ]
     },
     "execution_count": 22,
     "metadata": {},
     "output_type": "execute_result"
    }
   ],
   "source": [
    "y_pred_c = X @ solucion.x\n",
    "y_pred_c "
   ]
  },
  {
   "cell_type": "code",
   "execution_count": 23,
   "metadata": {},
   "outputs": [
    {
     "data": {
      "image/png": "[encoded data removed]",
      "text/plain": [
       "<Figure size 432x288 with 1 Axes>"
      ]
     },
     "metadata": {
      "needs_background": "light"
     },
     "output_type": "display_data"
    }
   ],
   "source": [
    "#Una vez obtenidas todas las predicciones, se grafican a modo de ver sus diferencias \n",
    "m = 27\n",
    "\n",
    "x = np.linspace(0, 26, m )\n",
    "y = data\n",
    "\n",
    "plt.figure()\n",
    "plt.scatter(x, y, s=10)\n",
    "plt.plot(x, y_pred_a, \"r\")\n",
    "plt.plot(x, y_pred_b, \"b\")\n",
    "plt.plot(x, y_pred_c, \"g\")\n",
    "plt.grid()\n"
   ]
  },
  {
   "cell_type": "code",
   "execution_count": null,
   "metadata": {},
   "outputs": [],
   "source": []
  },
  {
   "cell_type": "code",
   "execution_count": null,
   "metadata": {},
   "outputs": [],
   "source": []
  },
  {
   "cell_type": "markdown",
   "metadata": {},
   "source": [
    "---"
   ]
  },
  {
   "cell_type": "markdown",
   "metadata": {},
   "source": [
    "___\n",
    "### Problema 2\n",
    "\n",
    "El archivo `population_data.csv` contiene información histórica anual de México relativa a la población, nacimientos y muertes desde el año 1950 hasta el año 2015. La primer columna corresponde a los años, la segunda a la población, la tercera a los nacimientos y la última a los decesos.\n",
    "\n",
    "Tomado de: https://en.wikipedia.org/wiki/Demographics_of_Mexico.\n",
    "\n",
    "Importe estos datos usando la función `read_csv` del paquete `pandas`\n",
    "\n",
    "1. Usando los años como variable independiente $x$ y la población como variable dependiente $y$, ajustar polinomios de grado 1 hasta grado 3.\n",
    "\n",
    "    * Mostrar en un solo gráfico los datos de población contra los años, y los polinomios ajustados.\n",
    "\n",
    "    * Graficar el error cuadrático acumulado contra el número de términos.\n",
    "\n",
    "2. Repetir el punto 1 usando los nacimientos como variable dependiente $y$. Grafique las curvas ajustadas junto con los datos de nacimientos. Vea en un gráfico el error acumulado."
   ]
  },
  {
   "cell_type": "markdown",
   "metadata": {},
   "source": [
    "---"
   ]
  },
  {
   "cell_type": "code",
   "execution_count": 26,
   "metadata": {},
   "outputs": [],
   "source": [
    "#Se importa el archivo \n",
    "tabla = pd.read_csv(\"population_data.csv\")"
   ]
  },
  {
   "cell_type": "code",
   "execution_count": 27,
   "metadata": {},
   "outputs": [
    {
     "data": {
      "text/html": [
       "<div>\n",
       "<style scoped>\n",
       "    .dataframe tbody tr th:only-of-type {\n",
       "        vertical-align: middle;\n",
       "    }\n",
       "\n",
       "    .dataframe tbody tr th {\n",
       "        vertical-align: top;\n",
       "    }\n",
       "\n",
       "    .dataframe thead th {\n",
       "        text-align: right;\n",
       "    }\n",
       "</style>\n",
       "<table border=\"1\" class=\"dataframe\">\n",
       "  <thead>\n",
       "    <tr style=\"text-align: right;\">\n",
       "      <th></th>\n",
       "      <th>Year</th>\n",
       "      <th>Poblacion</th>\n",
       "      <th>Nacimientos</th>\n",
       "      <th>Decesos</th>\n",
       "    </tr>\n",
       "  </thead>\n",
       "  <tbody>\n",
       "    <tr>\n",
       "      <th>0</th>\n",
       "      <td>1950</td>\n",
       "      <td>28296</td>\n",
       "      <td>1174947</td>\n",
       "      <td>418430</td>\n",
       "    </tr>\n",
       "    <tr>\n",
       "      <th>1</th>\n",
       "      <td>1951</td>\n",
       "      <td>29110</td>\n",
       "      <td>1183788</td>\n",
       "      <td>458238</td>\n",
       "    </tr>\n",
       "    <tr>\n",
       "      <th>2</th>\n",
       "      <td>1952</td>\n",
       "      <td>29980</td>\n",
       "      <td>1195209</td>\n",
       "      <td>408823</td>\n",
       "    </tr>\n",
       "    <tr>\n",
       "      <th>3</th>\n",
       "      <td>1953</td>\n",
       "      <td>30904</td>\n",
       "      <td>1261775</td>\n",
       "      <td>446127</td>\n",
       "    </tr>\n",
       "    <tr>\n",
       "      <th>4</th>\n",
       "      <td>1954</td>\n",
       "      <td>31880</td>\n",
       "      <td>1339837</td>\n",
       "      <td>378752</td>\n",
       "    </tr>\n",
       "    <tr>\n",
       "      <th>...</th>\n",
       "      <td>...</td>\n",
       "      <td>...</td>\n",
       "      <td>...</td>\n",
       "      <td>...</td>\n",
       "    </tr>\n",
       "    <tr>\n",
       "      <th>61</th>\n",
       "      <td>2011</td>\n",
       "      <td>115683</td>\n",
       "      <td>2586287</td>\n",
       "      <td>590693</td>\n",
       "    </tr>\n",
       "    <tr>\n",
       "      <th>62</th>\n",
       "      <td>2012</td>\n",
       "      <td>117054</td>\n",
       "      <td>2498880</td>\n",
       "      <td>602354</td>\n",
       "    </tr>\n",
       "    <tr>\n",
       "      <th>63</th>\n",
       "      <td>2013</td>\n",
       "      <td>118395</td>\n",
       "      <td>2478889</td>\n",
       "      <td>623599</td>\n",
       "    </tr>\n",
       "    <tr>\n",
       "      <th>64</th>\n",
       "      <td>2014</td>\n",
       "      <td>119713</td>\n",
       "      <td>2463420</td>\n",
       "      <td>633641</td>\n",
       "    </tr>\n",
       "    <tr>\n",
       "      <th>65</th>\n",
       "      <td>2015</td>\n",
       "      <td>121005</td>\n",
       "      <td>2353596</td>\n",
       "      <td>655694</td>\n",
       "    </tr>\n",
       "  </tbody>\n",
       "</table>\n",
       "<p>66 rows × 4 columns</p>\n",
       "</div>"
      ],
      "text/plain": [
       "    Year  Poblacion  Nacimientos  Decesos\n",
       "0   1950      28296      1174947   418430\n",
       "1   1951      29110      1183788   458238\n",
       "2   1952      29980      1195209   408823\n",
       "3   1953      30904      1261775   446127\n",
       "4   1954      31880      1339837   378752\n",
       "..   ...        ...          ...      ...\n",
       "61  2011     115683      2586287   590693\n",
       "62  2012     117054      2498880   602354\n",
       "63  2013     118395      2478889   623599\n",
       "64  2014     119713      2463420   633641\n",
       "65  2015     121005      2353596   655694\n",
       "\n",
       "[66 rows x 4 columns]"
      ]
     },
     "execution_count": 27,
     "metadata": {},
     "output_type": "execute_result"
    }
   ],
   "source": [
    "tabla"
   ]
  },
  {
   "cell_type": "code",
   "execution_count": 28,
   "metadata": {},
   "outputs": [
    {
     "data": {
      "text/plain": [
       "0      28296\n",
       "1      29110\n",
       "2      29980\n",
       "3      30904\n",
       "4      31880\n",
       "       ...  \n",
       "61    115683\n",
       "62    117054\n",
       "63    118395\n",
       "64    119713\n",
       "65    121005\n",
       "Name: Poblacion, Length: 66, dtype: int64"
      ]
     },
     "execution_count": 28,
     "metadata": {},
     "output_type": "execute_result"
    }
   ],
   "source": [
    "#Se procede a buscar los resultados referentes a población\n",
    "poblacion_tabla = tabla[\"Poblacion\"]\n",
    "poblacion_tabla "
   ]
  },
  {
   "cell_type": "code",
   "execution_count": 29,
   "metadata": {},
   "outputs": [
    {
     "data": {
      "text/plain": [
       "array([[ 28296,  29110,  29980,  30904,  31880,  32906,  33978,  35095,\n",
       "         36253,  37448,  38677,  39939,  41234,  42564,  43931,  45339,\n",
       "         46784,  48264,  49788,  51361,  52988,  54669,  56396,  58156,\n",
       "         59931,  61708,  63486,  65261,  67013,  68715,  70353,  71916,\n",
       "         73416,  74880,  76351,  77859,  79410,  80999,  82635,  84327,\n",
       "         86077,  87890,  89758,  91654,  93542,  95393,  97202,  98969,\n",
       "        100679, 102317, 103874, 105340, 106724, 108056, 109382, 110732,\n",
       "        112117, 113530, 114968, 116423, 114255, 115683, 117054, 118395,\n",
       "        119713, 121005]], dtype=int64)"
      ]
     },
     "execution_count": 29,
     "metadata": {},
     "output_type": "execute_result"
    }
   ],
   "source": [
    "#Se convierte en un arreglo \n",
    "poblacion_array = np.array ([poblacion_tabla])\n",
    "poblacion_array "
   ]
  },
  {
   "cell_type": "code",
   "execution_count": 30,
   "metadata": {},
   "outputs": [
    {
     "data": {
      "image/png": "[encoded data removed]",
      "text/plain": [
       "<Figure size 432x288 with 1 Axes>"
      ]
     },
     "metadata": {
      "needs_background": "light"
     },
     "output_type": "display_data"
    }
   ],
   "source": [
    "#Se procede a graficar \n",
    "m = 66\n",
    "x = np.linspace(0, 66, m)\n",
    "y = np.reshape(poblacion_array,[m, -1])\n",
    "plt.figure()\n",
    "plt.scatter(x, y)\n",
    "plt.grid()\n",
    "\n"
   ]
  },
  {
   "cell_type": "code",
   "execution_count": 31,
   "metadata": {},
   "outputs": [],
   "source": [
    "#Se hacen las prediciones de ajuste de curva multiplicando (b) (X) de manera matricial (No producto punto)\n",
    "def funcion_de_poblacion_1(beta, X, y):\n",
    "    beta = np.reshape(beta, [2, -1])\n",
    "    y_pred = X @ beta \n",
    "    return ((y - y_pred).T @ (y - y_pred))[0][0]"
   ]
  },
  {
   "cell_type": "code",
   "execution_count": 32,
   "metadata": {},
   "outputs": [
    {
     "data": {
      "text/plain": [
       "array([[ 1.        ,  0.        ],\n",
       "       [ 1.        ,  1.01538462],\n",
       "       [ 1.        ,  2.03076923],\n",
       "       [ 1.        ,  3.04615385],\n",
       "       [ 1.        ,  4.06153846],\n",
       "       [ 1.        ,  5.07692308],\n",
       "       [ 1.        ,  6.09230769],\n",
       "       [ 1.        ,  7.10769231],\n",
       "       [ 1.        ,  8.12307692],\n",
       "       [ 1.        ,  9.13846154],\n",
       "       [ 1.        , 10.15384615],\n",
       "       [ 1.        , 11.16923077],\n",
       "       [ 1.        , 12.18461538],\n",
       "       [ 1.        , 13.2       ],\n",
       "       [ 1.        , 14.21538462],\n",
       "       [ 1.        , 15.23076923],\n",
       "       [ 1.        , 16.24615385],\n",
       "       [ 1.        , 17.26153846],\n",
       "       [ 1.        , 18.27692308],\n",
       "       [ 1.        , 19.29230769],\n",
       "       [ 1.        , 20.30769231],\n",
       "       [ 1.        , 21.32307692],\n",
       "       [ 1.        , 22.33846154],\n",
       "       [ 1.        , 23.35384615],\n",
       "       [ 1.        , 24.36923077],\n",
       "       [ 1.        , 25.38461538],\n",
       "       [ 1.        , 26.4       ],\n",
       "       [ 1.        , 27.41538462],\n",
       "       [ 1.        , 28.43076923],\n",
       "       [ 1.        , 29.44615385],\n",
       "       [ 1.        , 30.46153846],\n",
       "       [ 1.        , 31.47692308],\n",
       "       [ 1.        , 32.49230769],\n",
       "       [ 1.        , 33.50769231],\n",
       "       [ 1.        , 34.52307692],\n",
       "       [ 1.        , 35.53846154],\n",
       "       [ 1.        , 36.55384615],\n",
       "       [ 1.        , 37.56923077],\n",
       "       [ 1.        , 38.58461538],\n",
       "       [ 1.        , 39.6       ],\n",
       "       [ 1.        , 40.61538462],\n",
       "       [ 1.        , 41.63076923],\n",
       "       [ 1.        , 42.64615385],\n",
       "       [ 1.        , 43.66153846],\n",
       "       [ 1.        , 44.67692308],\n",
       "       [ 1.        , 45.69230769],\n",
       "       [ 1.        , 46.70769231],\n",
       "       [ 1.        , 47.72307692],\n",
       "       [ 1.        , 48.73846154],\n",
       "       [ 1.        , 49.75384615],\n",
       "       [ 1.        , 50.76923077],\n",
       "       [ 1.        , 51.78461538],\n",
       "       [ 1.        , 52.8       ],\n",
       "       [ 1.        , 53.81538462],\n",
       "       [ 1.        , 54.83076923],\n",
       "       [ 1.        , 55.84615385],\n",
       "       [ 1.        , 56.86153846],\n",
       "       [ 1.        , 57.87692308],\n",
       "       [ 1.        , 58.89230769],\n",
       "       [ 1.        , 59.90769231],\n",
       "       [ 1.        , 60.92307692],\n",
       "       [ 1.        , 61.93846154],\n",
       "       [ 1.        , 62.95384615],\n",
       "       [ 1.        , 63.96923077],\n",
       "       [ 1.        , 64.98461538],\n",
       "       [ 1.        , 66.        ]])"
      ]
     },
     "execution_count": 32,
     "metadata": {},
     "output_type": "execute_result"
    }
   ],
   "source": [
    "#Se realiza la aproximación lineal, por tanto, solo será hasta x**1\n",
    "ones = np.ones([m, 1])\n",
    "x_1 = np.reshape(x, [m, -1])\n",
    "\n",
    "X = np.hstack((ones, x_1))\n",
    "X"
   ]
  },
  {
   "cell_type": "code",
   "execution_count": 35,
   "metadata": {},
   "outputs": [],
   "source": [
    "beta_inicial = np.random.rand(2)\n",
    "y = np.reshape(y, [m, -1])\n"
   ]
  },
  {
   "cell_type": "code",
   "execution_count": 36,
   "metadata": {},
   "outputs": [
    {
     "data": {
      "text/plain": [
       "421816217328.9554"
      ]
     },
     "execution_count": 36,
     "metadata": {},
     "output_type": "execute_result"
    }
   ],
   "source": [
    "funcion_de_poblacion_1(beta_inicial, X, y)"
   ]
  },
  {
   "cell_type": "code",
   "execution_count": 37,
   "metadata": {},
   "outputs": [
    {
     "data": {
      "text/plain": [
       "      fun: 212137169.5445258\n",
       " hess_inv: array([[ 8.10504242e-03, -2.03075209e-04],\n",
       "       [-2.03075209e-04,  1.01710527e-05]])\n",
       "      jac: array([ 0., -4.])\n",
       "  message: 'Desired error not necessarily achieved due to precision loss.'\n",
       "     nfev: 177\n",
       "      nit: 9\n",
       "     njev: 55\n",
       "   status: 2\n",
       "  success: False\n",
       "        x: array([24138.01752333,  1520.57987645])"
      ]
     },
     "execution_count": 37,
     "metadata": {},
     "output_type": "execute_result"
    }
   ],
   "source": [
    "solucion = opt.minimize(funcion_de_poblacion_1, beta_inicial, args=(X, y))\n",
    "solucion"
   ]
  },
  {
   "cell_type": "code",
   "execution_count": 38,
   "metadata": {},
   "outputs": [
    {
     "data": {
      "text/plain": [
       "array([ 24138.01752333,  25681.99093634,  27225.96434936,  28769.93776237,\n",
       "        30313.91117538,  31857.88458839,  33401.8580014 ,  34945.83141442,\n",
       "        36489.80482743,  38033.77824044,  39577.75165345,  41121.72506647,\n",
       "        42665.69847948,  44209.67189249,  45753.6453055 ,  47297.61871852,\n",
       "        48841.59213153,  50385.56554454,  51929.53895755,  53473.51237056,\n",
       "        55017.48578358,  56561.45919659,  58105.4326096 ,  59649.40602261,\n",
       "        61193.37943563,  62737.35284864,  64281.32626165,  65825.29967466,\n",
       "        67369.27308767,  68913.24650069,  70457.2199137 ,  72001.19332671,\n",
       "        73545.16673972,  75089.14015274,  76633.11356575,  78177.08697876,\n",
       "        79721.06039177,  81265.03380478,  82809.0072178 ,  84352.98063081,\n",
       "        85896.95404382,  87440.92745683,  88984.90086985,  90528.87428286,\n",
       "        92072.84769587,  93616.82110888,  95160.7945219 ,  96704.76793491,\n",
       "        98248.74134792,  99792.71476093, 101336.68817394, 102880.66158696,\n",
       "       104424.63499997, 105968.60841298, 107512.58182599, 109056.55523901,\n",
       "       110600.52865202, 112144.50206503, 113688.47547804, 115232.44889105,\n",
       "       116776.42230407, 118320.39571708, 119864.36913009, 121408.3425431 ,\n",
       "       122952.31595612, 124496.28936913])"
      ]
     },
     "execution_count": 38,
     "metadata": {},
     "output_type": "execute_result"
    }
   ],
   "source": [
    "y_pred_1 = X @ solucion.x\n",
    "y_pred_1\n"
   ]
  },
  {
   "cell_type": "code",
   "execution_count": 47,
   "metadata": {},
   "outputs": [],
   "source": [
    "def funcion_de_poblacion_2(beta, X, y) :\n",
    "    beta = np.reshape(beta, [3, -1])\n",
    "    y_pred = X @ beta\n",
    "    return ((y - y_pred).T @ (y - y_pred))[0][0]\n",
    "    "
   ]
  },
  {
   "cell_type": "code",
   "execution_count": 48,
   "metadata": {},
   "outputs": [
    {
     "data": {
      "text/plain": [
       "array([[1.00000000e+00, 0.00000000e+00, 0.00000000e+00],\n",
       "       [1.00000000e+00, 1.01538462e+00, 1.03100592e+00],\n",
       "       [1.00000000e+00, 2.03076923e+00, 4.12402367e+00],\n",
       "       [1.00000000e+00, 3.04615385e+00, 9.27905325e+00],\n",
       "       [1.00000000e+00, 4.06153846e+00, 1.64960947e+01],\n",
       "       [1.00000000e+00, 5.07692308e+00, 2.57751479e+01],\n",
       "       [1.00000000e+00, 6.09230769e+00, 3.71162130e+01],\n",
       "       [1.00000000e+00, 7.10769231e+00, 5.05192899e+01],\n",
       "       [1.00000000e+00, 8.12307692e+00, 6.59843787e+01],\n",
       "       [1.00000000e+00, 9.13846154e+00, 8.35114793e+01],\n",
       "       [1.00000000e+00, 1.01538462e+01, 1.03100592e+02],\n",
       "       [1.00000000e+00, 1.11692308e+01, 1.24751716e+02],\n",
       "       [1.00000000e+00, 1.21846154e+01, 1.48464852e+02],\n",
       "       [1.00000000e+00, 1.32000000e+01, 1.74240000e+02],\n",
       "       [1.00000000e+00, 1.42153846e+01, 2.02077160e+02],\n",
       "       [1.00000000e+00, 1.52307692e+01, 2.31976331e+02],\n",
       "       [1.00000000e+00, 1.62461538e+01, 2.63937515e+02],\n",
       "       [1.00000000e+00, 1.72615385e+01, 2.97960710e+02],\n",
       "       [1.00000000e+00, 1.82769231e+01, 3.34045917e+02],\n",
       "       [1.00000000e+00, 1.92923077e+01, 3.72193136e+02],\n",
       "       [1.00000000e+00, 2.03076923e+01, 4.12402367e+02],\n",
       "       [1.00000000e+00, 2.13230769e+01, 4.54673609e+02],\n",
       "       [1.00000000e+00, 2.23384615e+01, 4.99006864e+02],\n",
       "       [1.00000000e+00, 2.33538462e+01, 5.45402130e+02],\n",
       "       [1.00000000e+00, 2.43692308e+01, 5.93859408e+02],\n",
       "       [1.00000000e+00, 2.53846154e+01, 6.44378698e+02],\n",
       "       [1.00000000e+00, 2.64000000e+01, 6.96960000e+02],\n",
       "       [1.00000000e+00, 2.74153846e+01, 7.51603314e+02],\n",
       "       [1.00000000e+00, 2.84307692e+01, 8.08308639e+02],\n",
       "       [1.00000000e+00, 2.94461538e+01, 8.67075976e+02],\n",
       "       [1.00000000e+00, 3.04615385e+01, 9.27905325e+02],\n",
       "       [1.00000000e+00, 3.14769231e+01, 9.90796686e+02],\n",
       "       [1.00000000e+00, 3.24923077e+01, 1.05575006e+03],\n",
       "       [1.00000000e+00, 3.35076923e+01, 1.12276544e+03],\n",
       "       [1.00000000e+00, 3.45230769e+01, 1.19184284e+03],\n",
       "       [1.00000000e+00, 3.55384615e+01, 1.26298225e+03],\n",
       "       [1.00000000e+00, 3.65538462e+01, 1.33618367e+03],\n",
       "       [1.00000000e+00, 3.75692308e+01, 1.41144710e+03],\n",
       "       [1.00000000e+00, 3.85846154e+01, 1.48877254e+03],\n",
       "       [1.00000000e+00, 3.96000000e+01, 1.56816000e+03],\n",
       "       [1.00000000e+00, 4.06153846e+01, 1.64960947e+03],\n",
       "       [1.00000000e+00, 4.16307692e+01, 1.73312095e+03],\n",
       "       [1.00000000e+00, 4.26461538e+01, 1.81869444e+03],\n",
       "       [1.00000000e+00, 4.36615385e+01, 1.90632994e+03],\n",
       "       [1.00000000e+00, 4.46769231e+01, 1.99602746e+03],\n",
       "       [1.00000000e+00, 4.56923077e+01, 2.08778698e+03],\n",
       "       [1.00000000e+00, 4.67076923e+01, 2.18160852e+03],\n",
       "       [1.00000000e+00, 4.77230769e+01, 2.27749207e+03],\n",
       "       [1.00000000e+00, 4.87384615e+01, 2.37543763e+03],\n",
       "       [1.00000000e+00, 4.97538462e+01, 2.47544521e+03],\n",
       "       [1.00000000e+00, 5.07692308e+01, 2.57751479e+03],\n",
       "       [1.00000000e+00, 5.17846154e+01, 2.68164639e+03],\n",
       "       [1.00000000e+00, 5.28000000e+01, 2.78784000e+03],\n",
       "       [1.00000000e+00, 5.38153846e+01, 2.89609562e+03],\n",
       "       [1.00000000e+00, 5.48307692e+01, 3.00641325e+03],\n",
       "       [1.00000000e+00, 5.58461538e+01, 3.11879290e+03],\n",
       "       [1.00000000e+00, 5.68615385e+01, 3.23323456e+03],\n",
       "       [1.00000000e+00, 5.78769231e+01, 3.34973822e+03],\n",
       "       [1.00000000e+00, 5.88923077e+01, 3.46830391e+03],\n",
       "       [1.00000000e+00, 5.99076923e+01, 3.58893160e+03],\n",
       "       [1.00000000e+00, 6.09230769e+01, 3.71162130e+03],\n",
       "       [1.00000000e+00, 6.19384615e+01, 3.83637302e+03],\n",
       "       [1.00000000e+00, 6.29538462e+01, 3.96318675e+03],\n",
       "       [1.00000000e+00, 6.39692308e+01, 4.09206249e+03],\n",
       "       [1.00000000e+00, 6.49846154e+01, 4.22300024e+03],\n",
       "       [1.00000000e+00, 6.60000000e+01, 4.35600000e+03]])"
      ]
     },
     "execution_count": 48,
     "metadata": {},
     "output_type": "execute_result"
    }
   ],
   "source": [
    "#Se realiza una aproximación cuadrática, por tanto, se hace hasta x**2\n",
    "ones = np.ones([m, 1])\n",
    "x_1 = np.reshape(x, [m, -1])\n",
    "x_2 = np.reshape(x**2, [m, -1])\n",
    "\n",
    "X = np.hstack((ones, x_1, x_2))\n",
    "X"
   ]
  },
  {
   "cell_type": "code",
   "execution_count": 49,
   "metadata": {},
   "outputs": [],
   "source": [
    "beta_inicial = np.random.rand(3)\n",
    "y = np.reshape(y, [m, -1])\n"
   ]
  },
  {
   "cell_type": "code",
   "execution_count": 50,
   "metadata": {},
   "outputs": [
    {
     "data": {
      "text/plain": [
       "404287912112.75433"
      ]
     },
     "execution_count": 50,
     "metadata": {},
     "output_type": "execute_result"
    }
   ],
   "source": [
    "funcion_de_poblacion_2(beta_inicial, X, y)\n"
   ]
  },
  {
   "cell_type": "code",
   "execution_count": 51,
   "metadata": {},
   "outputs": [
    {
     "data": {
      "text/plain": [
       "      fun: 210941621.45700696\n",
       " hess_inv: array([[ 2.05667804e-04,  2.01431620e-04, -3.83197583e-06],\n",
       "       [ 2.01431620e-04,  2.00661028e-04, -3.81733962e-06],\n",
       "       [-3.83197583e-06, -3.81733962e-06,  7.44387465e-08]])\n",
       "      jac: array([0., 0., 4.])\n",
       "  message: 'Desired error not necessarily achieved due to precision loss.'\n",
       "     nfev: 303\n",
       "      nit: 16\n",
       "     njev: 73\n",
       "   status: 2\n",
       "  success: False\n",
       "        x: array([2.44255535e+04, 1.49403065e+03, 4.02266151e-01])"
      ]
     },
     "execution_count": 51,
     "metadata": {},
     "output_type": "execute_result"
    }
   ],
   "source": [
    "solucion = opt.minimize(funcion_de_poblacion_2, beta_inicial, args=(X, y))\n",
    "solucion"
   ]
  },
  {
   "cell_type": "code",
   "execution_count": 52,
   "metadata": {},
   "outputs": [
    {
     "data": {
      "text/plain": [
       "array([ 24425.55345711,  25942.98392871,  27461.24387787,  28980.33330459,\n",
       "        30500.25220888,  32021.00059073,  33542.57845014,  35064.98578712,\n",
       "        36588.22260166,  38112.28889376,  39637.18466343,  41162.90991066,\n",
       "        42689.46463546,  44216.84883782,  45745.06251774,  47274.10567522,\n",
       "        48803.97831027,  50334.68042288,  51866.21201306,  53398.5730808 ,\n",
       "        54931.7636261 ,  56465.78364897,  58000.6331494 ,  59536.31212739,\n",
       "        61072.82058295,  62610.15851607,  64148.32592675,  65687.322815  ,\n",
       "        67227.14918081,  68767.80502419,  70309.29034512,  71851.60514363,\n",
       "        73394.74941969,  74938.72317332,  76483.52640451,  78029.15911327,\n",
       "        79575.62129959,  81122.91296347,  82671.03410492,  84219.98472393,\n",
       "        85769.7648205 ,  87320.37439464,  88871.81344634,  90424.0819756 ,\n",
       "        91977.17998243,  93531.10746682,  95085.86442877,  96641.45086829,\n",
       "        98197.86678537,  99755.11218002, 101313.18705222, 102872.091402  ,\n",
       "       104431.82522933, 105992.38853423, 107553.78131669, 109116.00357672,\n",
       "       110679.05531431, 112242.93652946, 113807.64722218, 115373.18739246,\n",
       "       116939.5570403 , 118506.75616571, 120074.78476868, 121643.64284921,\n",
       "       123213.33040731, 124783.84744297])"
      ]
     },
     "execution_count": 52,
     "metadata": {},
     "output_type": "execute_result"
    }
   ],
   "source": [
    "y_pred_2 = X @ solucion.x\n",
    "y_pred_2\n"
   ]
  },
  {
   "cell_type": "code",
   "execution_count": 60,
   "metadata": {},
   "outputs": [],
   "source": [
    "def funcion_de_poblacion_3(beta, X, y):\n",
    "    beta = np.reshape(beta, [4, -1])\n",
    "    y_pred = X @ beta \n",
    "    return ((y - y_pred).T @ (y - y_pred))[0][0]"
   ]
  },
  {
   "cell_type": "code",
   "execution_count": 61,
   "metadata": {},
   "outputs": [
    {
     "data": {
      "text/plain": [
       "array([[1.00000000e+00, 0.00000000e+00, 0.00000000e+00, 0.00000000e+00],\n",
       "       [1.00000000e+00, 1.01538462e+00, 1.03100592e+00, 1.04686755e+00],\n",
       "       [1.00000000e+00, 2.03076923e+00, 4.12402367e+00, 8.37494037e+00],\n",
       "       [1.00000000e+00, 3.04615385e+00, 9.27905325e+00, 2.82654238e+01],\n",
       "       [1.00000000e+00, 4.06153846e+00, 1.64960947e+01, 6.69995230e+01],\n",
       "       [1.00000000e+00, 5.07692308e+00, 2.57751479e+01, 1.30858443e+02],\n",
       "       [1.00000000e+00, 6.09230769e+00, 3.71162130e+01, 2.26123390e+02],\n",
       "       [1.00000000e+00, 7.10769231e+00, 5.05192899e+01, 3.59075569e+02],\n",
       "       [1.00000000e+00, 8.12307692e+00, 6.59843787e+01, 5.35996184e+02],\n",
       "       [1.00000000e+00, 9.13846154e+00, 8.35114793e+01, 7.63166442e+02],\n",
       "       [1.00000000e+00, 1.01538462e+01, 1.03100592e+02, 1.04686755e+03],\n",
       "       [1.00000000e+00, 1.11692308e+01, 1.24751716e+02, 1.39338070e+03],\n",
       "       [1.00000000e+00, 1.21846154e+01, 1.48464852e+02, 1.80898712e+03],\n",
       "       [1.00000000e+00, 1.32000000e+01, 1.74240000e+02, 2.29996800e+03],\n",
       "       [1.00000000e+00, 1.42153846e+01, 2.02077160e+02, 2.87260455e+03],\n",
       "       [1.00000000e+00, 1.52307692e+01, 2.31976331e+02, 3.53317797e+03],\n",
       "       [1.00000000e+00, 1.62461538e+01, 2.63937515e+02, 4.28796947e+03],\n",
       "       [1.00000000e+00, 1.72615385e+01, 2.97960710e+02, 5.14326026e+03],\n",
       "       [1.00000000e+00, 1.82769231e+01, 3.34045917e+02, 6.10533153e+03],\n",
       "       [1.00000000e+00, 1.92923077e+01, 3.72193136e+02, 7.18046450e+03],\n",
       "       [1.00000000e+00, 2.03076923e+01, 4.12402367e+02, 8.37494037e+03],\n",
       "       [1.00000000e+00, 2.13230769e+01, 4.54673609e+02, 9.69504035e+03],\n",
       "       [1.00000000e+00, 2.23384615e+01, 4.99006864e+02, 1.11470456e+04],\n",
       "       [1.00000000e+00, 2.33538462e+01, 5.45402130e+02, 1.27372374e+04],\n",
       "       [1.00000000e+00, 2.43692308e+01, 5.93859408e+02, 1.44718970e+04],\n",
       "       [1.00000000e+00, 2.53846154e+01, 6.44378698e+02, 1.63573054e+04],\n",
       "       [1.00000000e+00, 2.64000000e+01, 6.96960000e+02, 1.83997440e+04],\n",
       "       [1.00000000e+00, 2.74153846e+01, 7.51603314e+02, 2.06054939e+04],\n",
       "       [1.00000000e+00, 2.84307692e+01, 8.08308639e+02, 2.29808364e+04],\n",
       "       [1.00000000e+00, 2.94461538e+01, 8.67075976e+02, 2.55320526e+04],\n",
       "       [1.00000000e+00, 3.04615385e+01, 9.27905325e+02, 2.82654238e+04],\n",
       "       [1.00000000e+00, 3.14769231e+01, 9.90796686e+02, 3.11872311e+04],\n",
       "       [1.00000000e+00, 3.24923077e+01, 1.05575006e+03, 3.43037558e+04],\n",
       "       [1.00000000e+00, 3.35076923e+01, 1.12276544e+03, 3.76212790e+04],\n",
       "       [1.00000000e+00, 3.45230769e+01, 1.19184284e+03, 4.11460821e+04],\n",
       "       [1.00000000e+00, 3.55384615e+01, 1.26298225e+03, 4.48844461e+04],\n",
       "       [1.00000000e+00, 3.65538462e+01, 1.33618367e+03, 4.88426523e+04],\n",
       "       [1.00000000e+00, 3.75692308e+01, 1.41144710e+03, 5.30269818e+04],\n",
       "       [1.00000000e+00, 3.85846154e+01, 1.48877254e+03, 5.74437160e+04],\n",
       "       [1.00000000e+00, 3.96000000e+01, 1.56816000e+03, 6.20991360e+04],\n",
       "       [1.00000000e+00, 4.06153846e+01, 1.64960947e+03, 6.69995230e+04],\n",
       "       [1.00000000e+00, 4.16307692e+01, 1.73312095e+03, 7.21511582e+04],\n",
       "       [1.00000000e+00, 4.26461538e+01, 1.81869444e+03, 7.75603228e+04],\n",
       "       [1.00000000e+00, 4.36615385e+01, 1.90632994e+03, 8.32332980e+04],\n",
       "       [1.00000000e+00, 4.46769231e+01, 1.99602746e+03, 8.91763651e+04],\n",
       "       [1.00000000e+00, 4.56923077e+01, 2.08778698e+03, 9.53958052e+04],\n",
       "       [1.00000000e+00, 4.67076923e+01, 2.18160852e+03, 1.01897900e+05],\n",
       "       [1.00000000e+00, 4.77230769e+01, 2.27749207e+03, 1.08688929e+05],\n",
       "       [1.00000000e+00, 4.87384615e+01, 2.37543763e+03, 1.15775176e+05],\n",
       "       [1.00000000e+00, 4.97538462e+01, 2.47544521e+03, 1.23162920e+05],\n",
       "       [1.00000000e+00, 5.07692308e+01, 2.57751479e+03, 1.30858443e+05],\n",
       "       [1.00000000e+00, 5.17846154e+01, 2.68164639e+03, 1.38868027e+05],\n",
       "       [1.00000000e+00, 5.28000000e+01, 2.78784000e+03, 1.47197952e+05],\n",
       "       [1.00000000e+00, 5.38153846e+01, 2.89609562e+03, 1.55854500e+05],\n",
       "       [1.00000000e+00, 5.48307692e+01, 3.00641325e+03, 1.64843951e+05],\n",
       "       [1.00000000e+00, 5.58461538e+01, 3.11879290e+03, 1.74172588e+05],\n",
       "       [1.00000000e+00, 5.68615385e+01, 3.23323456e+03, 1.83846691e+05],\n",
       "       [1.00000000e+00, 5.78769231e+01, 3.34973822e+03, 1.93872542e+05],\n",
       "       [1.00000000e+00, 5.88923077e+01, 3.46830391e+03, 2.04256421e+05],\n",
       "       [1.00000000e+00, 5.99076923e+01, 3.58893160e+03, 2.15004610e+05],\n",
       "       [1.00000000e+00, 6.09230769e+01, 3.71162130e+03, 2.26123390e+05],\n",
       "       [1.00000000e+00, 6.19384615e+01, 3.83637302e+03, 2.37619043e+05],\n",
       "       [1.00000000e+00, 6.29538462e+01, 3.96318675e+03, 2.49497849e+05],\n",
       "       [1.00000000e+00, 6.39692308e+01, 4.09206249e+03, 2.61766089e+05],\n",
       "       [1.00000000e+00, 6.49846154e+01, 4.22300024e+03, 2.74430046e+05],\n",
       "       [1.00000000e+00, 6.60000000e+01, 4.35600000e+03, 2.87496000e+05]])"
      ]
     },
     "execution_count": 61,
     "metadata": {},
     "output_type": "execute_result"
    }
   ],
   "source": [
    "#Se realiza una aproximación cúbica, por tanto, se hace hasta x**3\n",
    "ones = np.ones([m, 1])\n",
    "x_1 = np.reshape(x, [m, -1])\n",
    "x_2 = np.reshape(x**2, [m, -1])\n",
    "x_3 = np.reshape(x**3, [m, -1])\n",
    "\n",
    "X = np.hstack((ones, x_1, x_2, x_3))\n",
    "X"
   ]
  },
  {
   "cell_type": "code",
   "execution_count": 62,
   "metadata": {},
   "outputs": [],
   "source": [
    "beta_inicial = np.random.rand(4)\n",
    "y = np.reshape(y, [m, -1])\n"
   ]
  },
  {
   "cell_type": "code",
   "execution_count": 63,
   "metadata": {},
   "outputs": [
    {
     "data": {
      "text/plain": [
       "157829798340.23676"
      ]
     },
     "execution_count": 63,
     "metadata": {},
     "output_type": "execute_result"
    }
   ],
   "source": [
    "funcion_de_poblacion_3(beta_inicial, X, y)\n"
   ]
  },
  {
   "cell_type": "code",
   "execution_count": 64,
   "metadata": {},
   "outputs": [
    {
     "data": {
      "text/plain": [
       "      fun: 25240442.63313161\n",
       " hess_inv: array([[ 1.09989353e-01, -1.23286558e-02,  3.69670764e-04,\n",
       "        -3.23699444e-06],\n",
       "       [-1.23286558e-02,  1.89245038e-03, -6.44707602e-05,\n",
       "         6.05324727e-07],\n",
       "       [ 3.69670764e-04, -6.44707602e-05,  2.35202066e-06,\n",
       "        -2.30534055e-08],\n",
       "       [-3.23699444e-06,  6.05324727e-07, -2.30534055e-08,\n",
       "         2.32694396e-10]])\n",
       "      jac: array([ 0.  , -0.75, -0.5 , -5.  ])\n",
       "  message: 'Desired error not necessarily achieved due to precision loss.'\n",
       "     nfev: 195\n",
       "      nit: 7\n",
       "     njev: 37\n",
       "   status: 2\n",
       "  success: False\n",
       "        x: array([ 2.84777452e+04,  7.27883621e+02,  2.96455818e+01, -2.95386800e-01])"
      ]
     },
     "execution_count": 64,
     "metadata": {},
     "output_type": "execute_result"
    }
   ],
   "source": [
    "solucion = opt.minimize(funcion_de_poblacion_3, beta_inicial, args=(X, y))\n",
    "solucion\n"
   ]
  },
  {
   "cell_type": "code",
   "execution_count": 65,
   "metadata": {},
   "outputs": [
    {
     "data": {
      "text/plain": [
       "array([ 28477.74522834,  29247.08259863,  30075.69412437,  30961.72442044,\n",
       "        31903.31810171,  32898.61978306,  33945.77407936,  35042.92560547,\n",
       "        36188.21897628,  37379.79880667,  38615.80971149,  39894.39630563,\n",
       "        41213.70320396,  42571.87502135,  43967.05637268,  45397.39187282,\n",
       "        46861.02613665,  48356.10377903,  49880.76941484,  51433.16765895,\n",
       "        53011.44312625,  54613.74043159,  56238.20418986,  57882.97901593,\n",
       "        59546.20952467,  61226.04033095,  62920.61604966,  64628.08129565,\n",
       "        66346.58068381,  68074.25882901,  69809.26034613,  71549.72985003,\n",
       "        73293.81195559,  75039.65127768,  76785.39243118,  78529.18003096,\n",
       "        80269.15869189,  82003.47302886,  83730.26765672,  85447.68719036,\n",
       "        87153.87624464,  88846.97943445,  90525.14137465,  92186.50668012,\n",
       "        93829.21996573,  95451.42584636,  97051.26893687,  98626.89385215,\n",
       "       100176.44520707, 101698.06761649, 103189.9056953 , 104650.10405836,\n",
       "       106076.80732056, 107468.16009675, 108822.30700183, 110137.39265065,\n",
       "       111411.5616581 , 112642.95863905, 113829.72820837, 114970.01498093,\n",
       "       116061.96357161, 117103.71859528, 118093.42466682, 119029.2264011 ,\n",
       "       119909.26841299, 120731.69531736])"
      ]
     },
     "execution_count": 65,
     "metadata": {},
     "output_type": "execute_result"
    }
   ],
   "source": [
    "y_pred_3 = X @ solucion.x\n",
    "y_pred_3"
   ]
  },
  {
   "cell_type": "code",
   "execution_count": 66,
   "metadata": {},
   "outputs": [
    {
     "data": {
      "image/png": "[encoded data removed]",
      "text/plain": [
       "<Figure size 432x288 with 1 Axes>"
      ]
     },
     "metadata": {
      "needs_background": "light"
     },
     "output_type": "display_data"
    }
   ],
   "source": [
    "#Se procede a graficar los resultados \n",
    "m = 66\n",
    "x = np.linspace(0, 66, m)\n",
    "y = np.reshape(poblacion_array,[m, -1])\n",
    "plt.figure()\n",
    "plt.scatter(x, y, s = 10)\n",
    "plt.plot(x, y_pred_1, \"r\")\n",
    "plt.plot(x, y_pred_2, \"b\")\n",
    "plt.plot(x, y_pred_3, \"g\")\n",
    "plt.grid()\n"
   ]
  },
  {
   "cell_type": "code",
   "execution_count": 67,
   "metadata": {},
   "outputs": [
    {
     "data": {
      "text/plain": [
       "0     1174947\n",
       "1     1183788\n",
       "2     1195209\n",
       "3     1261775\n",
       "4     1339837\n",
       "       ...   \n",
       "61    2586287\n",
       "62    2498880\n",
       "63    2478889\n",
       "64    2463420\n",
       "65    2353596\n",
       "Name: Nacimientos, Length: 66, dtype: int64"
      ]
     },
     "execution_count": 67,
     "metadata": {},
     "output_type": "execute_result"
    }
   ],
   "source": [
    "#Ahora, se tomarán los datos referentes a nacimientos \n",
    "nacimientos_tabla = tabla[\"Nacimientos\"]\n",
    "nacimientos_tabla "
   ]
  },
  {
   "cell_type": "code",
   "execution_count": 68,
   "metadata": {},
   "outputs": [
    {
     "data": {
      "text/plain": [
       "array([[1174947, 1183788, 1195209, 1261775, 1339837, 1377917, 1427722,\n",
       "        1485202, 1447578, 1589606, 1608174, 1647006, 1705481, 1756624,\n",
       "        1849408, 1888171, 1954340, 1981363, 2058251, 2037561, 2132630,\n",
       "        2231399, 2346002, 2572287, 2522580, 2254497, 2366305, 2379327,\n",
       "        2346862, 2274267, 2446238, 2530662, 2392849, 2609088, 2511894,\n",
       "        2655671, 2577045, 2794390, 2622031, 2620262, 2735312, 2756447,\n",
       "        2797397, 2839686, 2904389, 2750444, 2707718, 2698425, 2668429,\n",
       "        2769089, 2798339, 2767610, 2699084, 2655894, 2625056, 2567906,\n",
       "        2505939, 2655083, 2636110, 2577214, 2643908, 2586287, 2498880,\n",
       "        2478889, 2463420, 2353596]], dtype=int64)"
      ]
     },
     "execution_count": 68,
     "metadata": {},
     "output_type": "execute_result"
    }
   ],
   "source": [
    "#Se convierten en un arreglo \n",
    "nacimientos_array = np.array([nacimientos_tabla])\n",
    "nacimientos_array "
   ]
  },
  {
   "cell_type": "code",
   "execution_count": 69,
   "metadata": {},
   "outputs": [
    {
     "data": {
      "image/png": "[encoded data removed]",
      "text/plain": [
       "<Figure size 432x288 with 1 Axes>"
      ]
     },
     "metadata": {
      "needs_background": "light"
     },
     "output_type": "display_data"
    }
   ],
   "source": [
    "#Se procede a graficar \n",
    "m = 66\n",
    "x = np.linspace(0, 66, m)\n",
    "y = np.reshape(nacimientos_array,[m, -1])\n",
    "plt.figure()\n",
    "plt.scatter(x, y)\n",
    "plt.grid()"
   ]
  },
  {
   "cell_type": "code",
   "execution_count": 70,
   "metadata": {},
   "outputs": [],
   "source": [
    "def funcion_de_nacimientos_1(beta, X, y):\n",
    "    beta = np.reshape(beta, [2, -1])\n",
    "    y_pred = X @ beta\n",
    "    return ((y - y_pred).T @ (y - y_pred))[0][0]"
   ]
  },
  {
   "cell_type": "code",
   "execution_count": 71,
   "metadata": {},
   "outputs": [
    {
     "data": {
      "text/plain": [
       "array([[ 1.        ,  0.        ],\n",
       "       [ 1.        ,  1.01538462],\n",
       "       [ 1.        ,  2.03076923],\n",
       "       [ 1.        ,  3.04615385],\n",
       "       [ 1.        ,  4.06153846],\n",
       "       [ 1.        ,  5.07692308],\n",
       "       [ 1.        ,  6.09230769],\n",
       "       [ 1.        ,  7.10769231],\n",
       "       [ 1.        ,  8.12307692],\n",
       "       [ 1.        ,  9.13846154],\n",
       "       [ 1.        , 10.15384615],\n",
       "       [ 1.        , 11.16923077],\n",
       "       [ 1.        , 12.18461538],\n",
       "       [ 1.        , 13.2       ],\n",
       "       [ 1.        , 14.21538462],\n",
       "       [ 1.        , 15.23076923],\n",
       "       [ 1.        , 16.24615385],\n",
       "       [ 1.        , 17.26153846],\n",
       "       [ 1.        , 18.27692308],\n",
       "       [ 1.        , 19.29230769],\n",
       "       [ 1.        , 20.30769231],\n",
       "       [ 1.        , 21.32307692],\n",
       "       [ 1.        , 22.33846154],\n",
       "       [ 1.        , 23.35384615],\n",
       "       [ 1.        , 24.36923077],\n",
       "       [ 1.        , 25.38461538],\n",
       "       [ 1.        , 26.4       ],\n",
       "       [ 1.        , 27.41538462],\n",
       "       [ 1.        , 28.43076923],\n",
       "       [ 1.        , 29.44615385],\n",
       "       [ 1.        , 30.46153846],\n",
       "       [ 1.        , 31.47692308],\n",
       "       [ 1.        , 32.49230769],\n",
       "       [ 1.        , 33.50769231],\n",
       "       [ 1.        , 34.52307692],\n",
       "       [ 1.        , 35.53846154],\n",
       "       [ 1.        , 36.55384615],\n",
       "       [ 1.        , 37.56923077],\n",
       "       [ 1.        , 38.58461538],\n",
       "       [ 1.        , 39.6       ],\n",
       "       [ 1.        , 40.61538462],\n",
       "       [ 1.        , 41.63076923],\n",
       "       [ 1.        , 42.64615385],\n",
       "       [ 1.        , 43.66153846],\n",
       "       [ 1.        , 44.67692308],\n",
       "       [ 1.        , 45.69230769],\n",
       "       [ 1.        , 46.70769231],\n",
       "       [ 1.        , 47.72307692],\n",
       "       [ 1.        , 48.73846154],\n",
       "       [ 1.        , 49.75384615],\n",
       "       [ 1.        , 50.76923077],\n",
       "       [ 1.        , 51.78461538],\n",
       "       [ 1.        , 52.8       ],\n",
       "       [ 1.        , 53.81538462],\n",
       "       [ 1.        , 54.83076923],\n",
       "       [ 1.        , 55.84615385],\n",
       "       [ 1.        , 56.86153846],\n",
       "       [ 1.        , 57.87692308],\n",
       "       [ 1.        , 58.89230769],\n",
       "       [ 1.        , 59.90769231],\n",
       "       [ 1.        , 60.92307692],\n",
       "       [ 1.        , 61.93846154],\n",
       "       [ 1.        , 62.95384615],\n",
       "       [ 1.        , 63.96923077],\n",
       "       [ 1.        , 64.98461538],\n",
       "       [ 1.        , 66.        ]])"
      ]
     },
     "execution_count": 71,
     "metadata": {},
     "output_type": "execute_result"
    }
   ],
   "source": [
    "#Se realiza una aproximación lineal, por tanto, se hace hasta x**1\n",
    "ones = np.ones([m, 1])\n",
    "x_1 = np.reshape(x, [m, -1])\n",
    "\n",
    "X = np.hstack((ones, x_1))\n",
    "X"
   ]
  },
  {
   "cell_type": "code",
   "execution_count": 73,
   "metadata": {},
   "outputs": [],
   "source": [
    "beta_inicial = np.random.rand(2)\n",
    "y = np.reshape(y, [m, -1])"
   ]
  },
  {
   "cell_type": "code",
   "execution_count": 74,
   "metadata": {},
   "outputs": [
    {
     "data": {
      "text/plain": [
       "358562377191943.0"
      ]
     },
     "execution_count": 74,
     "metadata": {},
     "output_type": "execute_result"
    }
   ],
   "source": [
    "funcion_de_nacimientos_1(beta_inicial, X, y)"
   ]
  },
  {
   "cell_type": "code",
   "execution_count": 75,
   "metadata": {},
   "outputs": [
    {
     "data": {
      "text/plain": [
       "      fun: 4737912686467.055\n",
       " hess_inv: array([[ 5.34945788e-03, -1.20742286e-04],\n",
       "       [-1.20742286e-04,  7.90283720e-06]])\n",
       "      jac: array([0., 0.])\n",
       "  message: 'Optimization terminated successfully.'\n",
       "     nfev: 93\n",
       "      nit: 8\n",
       "     njev: 31\n",
       "   status: 0\n",
       "  success: True\n",
       "        x: array([1562838.39325872,   21646.3541705 ])"
      ]
     },
     "execution_count": 75,
     "metadata": {},
     "output_type": "execute_result"
    }
   ],
   "source": [
    "solucion = opt.minimize(funcion_de_nacimientos_1, beta_inicial, args=(X, y))\n",
    "solucion"
   ]
  },
  {
   "cell_type": "code",
   "execution_count": 76,
   "metadata": {},
   "outputs": [
    {
     "data": {
      "text/plain": [
       "array([1562838.39325872, 1584817.76826261, 1606797.1432665 ,\n",
       "       1628776.51827039, 1650755.89327428, 1672735.26827817,\n",
       "       1694714.64328206, 1716694.01828595, 1738673.39328984,\n",
       "       1760652.76829373, 1782632.14329762, 1804611.51830151,\n",
       "       1826590.8933054 , 1848570.26830929, 1870549.64331318,\n",
       "       1892529.01831707, 1914508.39332097, 1936487.76832486,\n",
       "       1958467.14332875, 1980446.51833264, 2002425.89333653,\n",
       "       2024405.26834042, 2046384.64334431, 2068364.0183482 ,\n",
       "       2090343.39335209, 2112322.76835598, 2134302.14335987,\n",
       "       2156281.51836376, 2178260.89336765, 2200240.26837154,\n",
       "       2222219.64337543, 2244199.01837932, 2266178.39338322,\n",
       "       2288157.76838711, 2310137.143391  , 2332116.51839489,\n",
       "       2354095.89339878, 2376075.26840267, 2398054.64340656,\n",
       "       2420034.01841045, 2442013.39341434, 2463992.76841823,\n",
       "       2485972.14342212, 2507951.51842601, 2529930.8934299 ,\n",
       "       2551910.26843379, 2573889.64343768, 2595869.01844157,\n",
       "       2617848.39344546, 2639827.76844936, 2661807.14345325,\n",
       "       2683786.51845714, 2705765.89346103, 2727745.26846492,\n",
       "       2749724.64346881, 2771704.0184727 , 2793683.39347659,\n",
       "       2815662.76848048, 2837642.14348437, 2859621.51848826,\n",
       "       2881600.89349215, 2903580.26849604, 2925559.64349993,\n",
       "       2947539.01850382, 2969518.39350771, 2991497.7685116 ])"
      ]
     },
     "execution_count": 76,
     "metadata": {},
     "output_type": "execute_result"
    }
   ],
   "source": [
    "y_pred_1 = X @ solucion.x\n",
    "y_pred_1"
   ]
  },
  {
   "cell_type": "code",
   "execution_count": 77,
   "metadata": {},
   "outputs": [],
   "source": [
    "def funcion_de_nacimientos_2(beta, X, y):\n",
    "    beta = np.reshape(beta, [3, -1])\n",
    "    y_pred = X @ beta\n",
    "    return ((y - y_pred).T @ (y - y_pred))[0][0]"
   ]
  },
  {
   "cell_type": "code",
   "execution_count": 79,
   "metadata": {},
   "outputs": [
    {
     "data": {
      "text/plain": [
       "array([[1.00000000e+00, 0.00000000e+00, 0.00000000e+00],\n",
       "       [1.00000000e+00, 1.01538462e+00, 1.03100592e+00],\n",
       "       [1.00000000e+00, 2.03076923e+00, 4.12402367e+00],\n",
       "       [1.00000000e+00, 3.04615385e+00, 9.27905325e+00],\n",
       "       [1.00000000e+00, 4.06153846e+00, 1.64960947e+01],\n",
       "       [1.00000000e+00, 5.07692308e+00, 2.57751479e+01],\n",
       "       [1.00000000e+00, 6.09230769e+00, 3.71162130e+01],\n",
       "       [1.00000000e+00, 7.10769231e+00, 5.05192899e+01],\n",
       "       [1.00000000e+00, 8.12307692e+00, 6.59843787e+01],\n",
       "       [1.00000000e+00, 9.13846154e+00, 8.35114793e+01],\n",
       "       [1.00000000e+00, 1.01538462e+01, 1.03100592e+02],\n",
       "       [1.00000000e+00, 1.11692308e+01, 1.24751716e+02],\n",
       "       [1.00000000e+00, 1.21846154e+01, 1.48464852e+02],\n",
       "       [1.00000000e+00, 1.32000000e+01, 1.74240000e+02],\n",
       "       [1.00000000e+00, 1.42153846e+01, 2.02077160e+02],\n",
       "       [1.00000000e+00, 1.52307692e+01, 2.31976331e+02],\n",
       "       [1.00000000e+00, 1.62461538e+01, 2.63937515e+02],\n",
       "       [1.00000000e+00, 1.72615385e+01, 2.97960710e+02],\n",
       "       [1.00000000e+00, 1.82769231e+01, 3.34045917e+02],\n",
       "       [1.00000000e+00, 1.92923077e+01, 3.72193136e+02],\n",
       "       [1.00000000e+00, 2.03076923e+01, 4.12402367e+02],\n",
       "       [1.00000000e+00, 2.13230769e+01, 4.54673609e+02],\n",
       "       [1.00000000e+00, 2.23384615e+01, 4.99006864e+02],\n",
       "       [1.00000000e+00, 2.33538462e+01, 5.45402130e+02],\n",
       "       [1.00000000e+00, 2.43692308e+01, 5.93859408e+02],\n",
       "       [1.00000000e+00, 2.53846154e+01, 6.44378698e+02],\n",
       "       [1.00000000e+00, 2.64000000e+01, 6.96960000e+02],\n",
       "       [1.00000000e+00, 2.74153846e+01, 7.51603314e+02],\n",
       "       [1.00000000e+00, 2.84307692e+01, 8.08308639e+02],\n",
       "       [1.00000000e+00, 2.94461538e+01, 8.67075976e+02],\n",
       "       [1.00000000e+00, 3.04615385e+01, 9.27905325e+02],\n",
       "       [1.00000000e+00, 3.14769231e+01, 9.90796686e+02],\n",
       "       [1.00000000e+00, 3.24923077e+01, 1.05575006e+03],\n",
       "       [1.00000000e+00, 3.35076923e+01, 1.12276544e+03],\n",
       "       [1.00000000e+00, 3.45230769e+01, 1.19184284e+03],\n",
       "       [1.00000000e+00, 3.55384615e+01, 1.26298225e+03],\n",
       "       [1.00000000e+00, 3.65538462e+01, 1.33618367e+03],\n",
       "       [1.00000000e+00, 3.75692308e+01, 1.41144710e+03],\n",
       "       [1.00000000e+00, 3.85846154e+01, 1.48877254e+03],\n",
       "       [1.00000000e+00, 3.96000000e+01, 1.56816000e+03],\n",
       "       [1.00000000e+00, 4.06153846e+01, 1.64960947e+03],\n",
       "       [1.00000000e+00, 4.16307692e+01, 1.73312095e+03],\n",
       "       [1.00000000e+00, 4.26461538e+01, 1.81869444e+03],\n",
       "       [1.00000000e+00, 4.36615385e+01, 1.90632994e+03],\n",
       "       [1.00000000e+00, 4.46769231e+01, 1.99602746e+03],\n",
       "       [1.00000000e+00, 4.56923077e+01, 2.08778698e+03],\n",
       "       [1.00000000e+00, 4.67076923e+01, 2.18160852e+03],\n",
       "       [1.00000000e+00, 4.77230769e+01, 2.27749207e+03],\n",
       "       [1.00000000e+00, 4.87384615e+01, 2.37543763e+03],\n",
       "       [1.00000000e+00, 4.97538462e+01, 2.47544521e+03],\n",
       "       [1.00000000e+00, 5.07692308e+01, 2.57751479e+03],\n",
       "       [1.00000000e+00, 5.17846154e+01, 2.68164639e+03],\n",
       "       [1.00000000e+00, 5.28000000e+01, 2.78784000e+03],\n",
       "       [1.00000000e+00, 5.38153846e+01, 2.89609562e+03],\n",
       "       [1.00000000e+00, 5.48307692e+01, 3.00641325e+03],\n",
       "       [1.00000000e+00, 5.58461538e+01, 3.11879290e+03],\n",
       "       [1.00000000e+00, 5.68615385e+01, 3.23323456e+03],\n",
       "       [1.00000000e+00, 5.78769231e+01, 3.34973822e+03],\n",
       "       [1.00000000e+00, 5.88923077e+01, 3.46830391e+03],\n",
       "       [1.00000000e+00, 5.99076923e+01, 3.58893160e+03],\n",
       "       [1.00000000e+00, 6.09230769e+01, 3.71162130e+03],\n",
       "       [1.00000000e+00, 6.19384615e+01, 3.83637302e+03],\n",
       "       [1.00000000e+00, 6.29538462e+01, 3.96318675e+03],\n",
       "       [1.00000000e+00, 6.39692308e+01, 4.09206249e+03],\n",
       "       [1.00000000e+00, 6.49846154e+01, 4.22300024e+03],\n",
       "       [1.00000000e+00, 6.60000000e+01, 4.35600000e+03]])"
      ]
     },
     "execution_count": 79,
     "metadata": {},
     "output_type": "execute_result"
    }
   ],
   "source": [
    "#Se realiza una aproximación cuadrática, por tanto, se hace hasta x**2\n",
    "ones = np.ones([m, 1])\n",
    "x_1 = np.reshape(x, [m, -1])\n",
    "x_2 = np.reshape(x**2, [m, -1])\n",
    "\n",
    "X = np.hstack((ones, x_1, x_2))\n",
    "X"
   ]
  },
  {
   "cell_type": "code",
   "execution_count": 82,
   "metadata": {},
   "outputs": [],
   "source": [
    "beta_inicial = np.random.rand(3)"
   ]
  },
  {
   "cell_type": "code",
   "execution_count": 83,
   "metadata": {},
   "outputs": [
    {
     "data": {
      "text/plain": [
       "358491021774819.25"
      ]
     },
     "execution_count": 83,
     "metadata": {},
     "output_type": "execute_result"
    }
   ],
   "source": [
    "funcion_de_nacimientos_2(beta_inicial, X, y)"
   ]
  },
  {
   "cell_type": "code",
   "execution_count": 84,
   "metadata": {},
   "outputs": [
    {
     "data": {
      "text/plain": [
       "      fun: 492921048975.0791\n",
       " hess_inv: array([[ 1.11832455e-02, -3.34916959e-06, -2.85015939e-06],\n",
       "       [-3.34916959e-06,  2.04792874e-07, -2.78332058e-09],\n",
       "       [-2.85015939e-06, -2.78332058e-09,  2.62804688e-09]])\n",
       "      jac: array([     0., -12288., -90112.])\n",
       "  message: 'Desired error not necessarily achieved due to precision loss.'\n",
       "     nfev: 280\n",
       "      nit: 12\n",
       "     njev: 67\n",
       "   status: 2\n",
       "  success: False\n",
       "        x: array([ 1.02110640e+06,  7.16753467e+04, -7.58059574e+02])"
      ]
     },
     "execution_count": 84,
     "metadata": {},
     "output_type": "execute_result"
    }
   ],
   "source": [
    "solucion = opt.minimize(funcion_de_nacimientos_2, beta_inicial, args=(X, y))\n",
    "solucion"
   ]
  },
  {
   "cell_type": "code",
   "execution_count": 85,
   "metadata": {},
   "outputs": [
    {
     "data": {
      "text/plain": [
       "array([1021106.39891041, 1093102.87933754, 1163536.23195289,\n",
       "       1232406.45675648, 1299713.5537483 , 1365457.52292835,\n",
       "       1429638.36429664, 1492256.07785315, 1553310.6635979 ,\n",
       "       1612802.12153088, 1670730.45165209, 1727095.65396153,\n",
       "       1781897.72845921, 1835136.67514511, 1886812.49401925,\n",
       "       1936925.18508162, 1985474.74833222, 2032461.18377105,\n",
       "       2077884.49139812, 2121744.67121341, 2164041.72321694,\n",
       "       2204775.6474087 , 2243946.44378869, 2281554.11235692,\n",
       "       2317598.65311337, 2352080.06605806, 2384998.35119098,\n",
       "       2416353.50851213, 2446145.53802151, 2474374.43971912,\n",
       "       2501040.21360497, 2526142.85967905, 2549682.37794135,\n",
       "       2571658.7683919 , 2592072.03103067, 2610922.16585767,\n",
       "       2628209.17287291, 2643933.05207638, 2658093.80346807,\n",
       "       2670691.42704801, 2681725.92281617, 2691197.29077256,\n",
       "       2699105.53091719, 2705450.64325005, 2710232.62777114,\n",
       "       2713451.48448046, 2715107.21337801, 2715199.8144638 ,\n",
       "       2713729.28773781, 2710695.63320006, 2706098.85085054,\n",
       "       2699938.94068926, 2692215.9027162 , 2682929.73693137,\n",
       "       2672080.44333478, 2659668.02192642, 2645692.47270629,\n",
       "       2630153.79567439, 2613051.99083073, 2594387.05817529,\n",
       "       2574158.99770809, 2552367.80942912, 2529013.49333838,\n",
       "       2504096.04943587, 2477615.4777216 , 2449571.77819556])"
      ]
     },
     "execution_count": 85,
     "metadata": {},
     "output_type": "execute_result"
    }
   ],
   "source": [
    "y_pred_2 = X @ solucion.x\n",
    "y_pred_2"
   ]
  },
  {
   "cell_type": "code",
   "execution_count": 86,
   "metadata": {},
   "outputs": [],
   "source": [
    "def funcion_de_nacimientos_3(beta, X, y):\n",
    "    beta = np.reshape(beta, [4, -1])\n",
    "    y_pred = X @ beta\n",
    "    return ((y - y_pred).T @ (y - y_pred))[0][0]"
   ]
  },
  {
   "cell_type": "code",
   "execution_count": 88,
   "metadata": {},
   "outputs": [
    {
     "data": {
      "text/plain": [
       "array([[1.00000000e+00, 0.00000000e+00, 0.00000000e+00, 0.00000000e+00],\n",
       "       [1.00000000e+00, 1.01538462e+00, 1.03100592e+00, 1.04686755e+00],\n",
       "       [1.00000000e+00, 2.03076923e+00, 4.12402367e+00, 8.37494037e+00],\n",
       "       [1.00000000e+00, 3.04615385e+00, 9.27905325e+00, 2.82654238e+01],\n",
       "       [1.00000000e+00, 4.06153846e+00, 1.64960947e+01, 6.69995230e+01],\n",
       "       [1.00000000e+00, 5.07692308e+00, 2.57751479e+01, 1.30858443e+02],\n",
       "       [1.00000000e+00, 6.09230769e+00, 3.71162130e+01, 2.26123390e+02],\n",
       "       [1.00000000e+00, 7.10769231e+00, 5.05192899e+01, 3.59075569e+02],\n",
       "       [1.00000000e+00, 8.12307692e+00, 6.59843787e+01, 5.35996184e+02],\n",
       "       [1.00000000e+00, 9.13846154e+00, 8.35114793e+01, 7.63166442e+02],\n",
       "       [1.00000000e+00, 1.01538462e+01, 1.03100592e+02, 1.04686755e+03],\n",
       "       [1.00000000e+00, 1.11692308e+01, 1.24751716e+02, 1.39338070e+03],\n",
       "       [1.00000000e+00, 1.21846154e+01, 1.48464852e+02, 1.80898712e+03],\n",
       "       [1.00000000e+00, 1.32000000e+01, 1.74240000e+02, 2.29996800e+03],\n",
       "       [1.00000000e+00, 1.42153846e+01, 2.02077160e+02, 2.87260455e+03],\n",
       "       [1.00000000e+00, 1.52307692e+01, 2.31976331e+02, 3.53317797e+03],\n",
       "       [1.00000000e+00, 1.62461538e+01, 2.63937515e+02, 4.28796947e+03],\n",
       "       [1.00000000e+00, 1.72615385e+01, 2.97960710e+02, 5.14326026e+03],\n",
       "       [1.00000000e+00, 1.82769231e+01, 3.34045917e+02, 6.10533153e+03],\n",
       "       [1.00000000e+00, 1.92923077e+01, 3.72193136e+02, 7.18046450e+03],\n",
       "       [1.00000000e+00, 2.03076923e+01, 4.12402367e+02, 8.37494037e+03],\n",
       "       [1.00000000e+00, 2.13230769e+01, 4.54673609e+02, 9.69504035e+03],\n",
       "       [1.00000000e+00, 2.23384615e+01, 4.99006864e+02, 1.11470456e+04],\n",
       "       [1.00000000e+00, 2.33538462e+01, 5.45402130e+02, 1.27372374e+04],\n",
       "       [1.00000000e+00, 2.43692308e+01, 5.93859408e+02, 1.44718970e+04],\n",
       "       [1.00000000e+00, 2.53846154e+01, 6.44378698e+02, 1.63573054e+04],\n",
       "       [1.00000000e+00, 2.64000000e+01, 6.96960000e+02, 1.83997440e+04],\n",
       "       [1.00000000e+00, 2.74153846e+01, 7.51603314e+02, 2.06054939e+04],\n",
       "       [1.00000000e+00, 2.84307692e+01, 8.08308639e+02, 2.29808364e+04],\n",
       "       [1.00000000e+00, 2.94461538e+01, 8.67075976e+02, 2.55320526e+04],\n",
       "       [1.00000000e+00, 3.04615385e+01, 9.27905325e+02, 2.82654238e+04],\n",
       "       [1.00000000e+00, 3.14769231e+01, 9.90796686e+02, 3.11872311e+04],\n",
       "       [1.00000000e+00, 3.24923077e+01, 1.05575006e+03, 3.43037558e+04],\n",
       "       [1.00000000e+00, 3.35076923e+01, 1.12276544e+03, 3.76212790e+04],\n",
       "       [1.00000000e+00, 3.45230769e+01, 1.19184284e+03, 4.11460821e+04],\n",
       "       [1.00000000e+00, 3.55384615e+01, 1.26298225e+03, 4.48844461e+04],\n",
       "       [1.00000000e+00, 3.65538462e+01, 1.33618367e+03, 4.88426523e+04],\n",
       "       [1.00000000e+00, 3.75692308e+01, 1.41144710e+03, 5.30269818e+04],\n",
       "       [1.00000000e+00, 3.85846154e+01, 1.48877254e+03, 5.74437160e+04],\n",
       "       [1.00000000e+00, 3.96000000e+01, 1.56816000e+03, 6.20991360e+04],\n",
       "       [1.00000000e+00, 4.06153846e+01, 1.64960947e+03, 6.69995230e+04],\n",
       "       [1.00000000e+00, 4.16307692e+01, 1.73312095e+03, 7.21511582e+04],\n",
       "       [1.00000000e+00, 4.26461538e+01, 1.81869444e+03, 7.75603228e+04],\n",
       "       [1.00000000e+00, 4.36615385e+01, 1.90632994e+03, 8.32332980e+04],\n",
       "       [1.00000000e+00, 4.46769231e+01, 1.99602746e+03, 8.91763651e+04],\n",
       "       [1.00000000e+00, 4.56923077e+01, 2.08778698e+03, 9.53958052e+04],\n",
       "       [1.00000000e+00, 4.67076923e+01, 2.18160852e+03, 1.01897900e+05],\n",
       "       [1.00000000e+00, 4.77230769e+01, 2.27749207e+03, 1.08688929e+05],\n",
       "       [1.00000000e+00, 4.87384615e+01, 2.37543763e+03, 1.15775176e+05],\n",
       "       [1.00000000e+00, 4.97538462e+01, 2.47544521e+03, 1.23162920e+05],\n",
       "       [1.00000000e+00, 5.07692308e+01, 2.57751479e+03, 1.30858443e+05],\n",
       "       [1.00000000e+00, 5.17846154e+01, 2.68164639e+03, 1.38868027e+05],\n",
       "       [1.00000000e+00, 5.28000000e+01, 2.78784000e+03, 1.47197952e+05],\n",
       "       [1.00000000e+00, 5.38153846e+01, 2.89609562e+03, 1.55854500e+05],\n",
       "       [1.00000000e+00, 5.48307692e+01, 3.00641325e+03, 1.64843951e+05],\n",
       "       [1.00000000e+00, 5.58461538e+01, 3.11879290e+03, 1.74172588e+05],\n",
       "       [1.00000000e+00, 5.68615385e+01, 3.23323456e+03, 1.83846691e+05],\n",
       "       [1.00000000e+00, 5.78769231e+01, 3.34973822e+03, 1.93872542e+05],\n",
       "       [1.00000000e+00, 5.88923077e+01, 3.46830391e+03, 2.04256421e+05],\n",
       "       [1.00000000e+00, 5.99076923e+01, 3.58893160e+03, 2.15004610e+05],\n",
       "       [1.00000000e+00, 6.09230769e+01, 3.71162130e+03, 2.26123390e+05],\n",
       "       [1.00000000e+00, 6.19384615e+01, 3.83637302e+03, 2.37619043e+05],\n",
       "       [1.00000000e+00, 6.29538462e+01, 3.96318675e+03, 2.49497849e+05],\n",
       "       [1.00000000e+00, 6.39692308e+01, 4.09206249e+03, 2.61766089e+05],\n",
       "       [1.00000000e+00, 6.49846154e+01, 4.22300024e+03, 2.74430046e+05],\n",
       "       [1.00000000e+00, 6.60000000e+01, 4.35600000e+03, 2.87496000e+05]])"
      ]
     },
     "execution_count": 88,
     "metadata": {},
     "output_type": "execute_result"
    }
   ],
   "source": [
    "#Se realiza una aproximación cúbica, por tanto, se hace hasta x**3\n",
    "ones = np.ones([m, 1])\n",
    "x_1 = np.reshape(x, [m, -1])\n",
    "x_2 = np.reshape(x**2, [m, -1])\n",
    "x_3 = np.reshape(x**3, [m, -1])\n",
    "\n",
    "X = np.hstack((ones, x_1, x_2, x_3))\n",
    "X"
   ]
  },
  {
   "cell_type": "code",
   "execution_count": 89,
   "metadata": {},
   "outputs": [],
   "source": [
    "beta_inicial = np.random.rand(4)\n",
    "y = np.reshape(y, [m, -1])\n"
   ]
  },
  {
   "cell_type": "code",
   "execution_count": 90,
   "metadata": {},
   "outputs": [
    {
     "data": {
      "text/plain": [
       "352774685532295.44"
      ]
     },
     "execution_count": 90,
     "metadata": {},
     "output_type": "execute_result"
    }
   ],
   "source": [
    "funcion_de_nacimientos_3(beta_inicial, X, y)"
   ]
  },
  {
   "cell_type": "code",
   "execution_count": 91,
   "metadata": {},
   "outputs": [
    {
     "data": {
      "text/plain": [
       "      fun: 441782322594.38367\n",
       " hess_inv: array([[ 9.27139674e-03, -1.92858809e-03,  7.38977915e-05,\n",
       "        -6.84910706e-07],\n",
       "       [-1.92858809e-03,  4.01256220e-04, -1.54523159e-05,\n",
       "         1.43811115e-07],\n",
       "       [ 7.38977915e-05, -1.54523159e-05,  6.68686856e-07,\n",
       "        -6.78458162e-09],\n",
       "       [-6.84910706e-07,  1.43811115e-07, -6.78458162e-09,\n",
       "         7.39866774e-11]])\n",
       "      jac: array([ 0.0000000e+00, -8.1920000e+03, -2.0480000e+05, -1.0067968e+07])\n",
       "  message: 'Desired error not necessarily achieved due to precision loss.'\n",
       "     nfev: 275\n",
       "      nit: 10\n",
       "     njev: 54\n",
       "   status: 2\n",
       "  success: False\n",
       "        x: array([ 1.08838060e+06,  5.89579983e+04, -2.72673716e+02, -4.90275269e+00])"
      ]
     },
     "execution_count": 91,
     "metadata": {},
     "output_type": "execute_result"
    }
   ],
   "source": [
    "solucion = opt.minimize(funcion_de_nacimientos_3, beta_inicial, args=(X, y))\n",
    "solucion\n"
   ]
  },
  {
   "cell_type": "code",
   "execution_count": 92,
   "metadata": {},
   "outputs": [
    {
     "data": {
      "text/plain": [
       "array([1088380.59820209, 1147959.38187761, 1206945.11392782,\n",
       "       1265306.99915665, 1323014.24236803, 1380036.0483659 ,\n",
       "       1436341.62195419, 1491900.16793685, 1546680.89111781,\n",
       "       1600652.996301  , 1653785.68829035, 1706048.17188982,\n",
       "       1757409.65190332, 1807839.33313481, 1857306.4203882 ,\n",
       "       1905780.11846745, 1953229.63217648, 1999624.16631923,\n",
       "       2044932.92569964, 2089125.11512164, 2132169.93938917,\n",
       "       2174036.60330616, 2214694.31167655, 2254112.26930428,\n",
       "       2292259.68099329, 2329105.7515475 , 2364619.68577086,\n",
       "       2398770.68846729, 2431527.96444074, 2462860.71849515,\n",
       "       2492738.15543444, 2521129.48006255, 2548003.89718343,\n",
       "       2573330.611601  , 2597078.8281192 , 2619217.75154197,\n",
       "       2639716.58667325, 2658544.53831696, 2675670.81127705,\n",
       "       2691064.61035745, 2704695.14036209, 2716531.60609492,\n",
       "       2726543.21235987, 2734699.16396087, 2740968.66570187,\n",
       "       2745320.92238679, 2747725.13881957, 2748150.51980415,\n",
       "       2746566.27014447, 2742941.59464446, 2737245.69810805,\n",
       "       2729447.78533918, 2719517.0611418 , 2707422.73031982,\n",
       "       2693133.9976772 , 2676620.06801787, 2657850.14614575,\n",
       "       2636793.43686479, 2613419.14497893, 2587696.47529209,\n",
       "       2559594.63260823, 2529082.82173126, 2496130.24746513,\n",
       "       2460706.11461377, 2422779.62798112, 2382319.99237112])"
      ]
     },
     "execution_count": 92,
     "metadata": {},
     "output_type": "execute_result"
    }
   ],
   "source": [
    "y_pred_3 = X @ solucion.x\n",
    "y_pred_3"
   ]
  },
  {
   "cell_type": "code",
   "execution_count": 93,
   "metadata": {},
   "outputs": [
    {
     "data": {
      "image/png": "[encoded data removed]",
      "text/plain": [
       "<Figure size 432x288 with 1 Axes>"
      ]
     },
     "metadata": {
      "needs_background": "light"
     },
     "output_type": "display_data"
    }
   ],
   "source": [
    "#Se grafican todos los resultados a modo de diferenciarlos \n",
    "m = 66\n",
    "x = np.linspace(0, 66, m)\n",
    "y = np.reshape(nacimientos_array,[m, -1])\n",
    "plt.figure()\n",
    "plt.scatter(x, y, s = 10)\n",
    "plt.plot(x, y_pred_1, \"r\")\n",
    "plt.plot(x, y_pred_2, \"b\")\n",
    "plt.plot(x, y_pred_3, \"g\")\n",
    "plt.grid()\n"
   ]
  },
  {
   "cell_type": "code",
   "execution_count": null,
   "metadata": {},
   "outputs": [],
   "source": []
  },
  {
   "cell_type": "code",
   "execution_count": null,
   "metadata": {},
   "outputs": [],
   "source": []
  }
 ],
 "metadata": {
  "kernelspec": {
   "display_name": "Python 3 (ipykernel)",
   "language": "python",
   "name": "python3"
  },
  "language_info": {
   "codemirror_mode": {
    "name": "ipython",
    "version": 3
   },
   "file_extension": ".py",
   "mimetype": "text/x-python",
   "name": "python",
   "nbconvert_exporter": "python",
   "pygments_lexer": "ipython3",
   "version": "3.9.12"
  }
 },
 "nbformat": 4,
 "nbformat_minor": 2
}
